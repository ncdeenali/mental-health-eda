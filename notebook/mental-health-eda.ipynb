{
  "nbformat": 4,
  "nbformat_minor": 0,
  "metadata": {
    "colab": {
      "provenance": []
    },
    "kernelspec": {
      "name": "python3",
      "display_name": "Python 3"
    },
    "language_info": {
      "name": "python"
    }
  },
  "cells": [
    {
      "cell_type": "code",
      "source": [
        "import pandas as pd"
      ],
      "metadata": {
        "id": "lUAcxAHhU812"
      },
      "execution_count": null,
      "outputs": []
    },
    {
      "cell_type": "code",
      "source": [
        "# reading\n",
        "df = pd.read_csv('/content/DrugAbuser.csv')\n",
        "df.head()"
      ],
      "metadata": {
        "id": "c4aOhEieVx3k",
        "colab": {
          "base_uri": "https://localhost:8080/",
          "height": 377
        },
        "outputId": "a631344d-dce8-44f6-d8fb-adc407594a89"
      },
      "execution_count": null,
      "outputs": [
        {
          "output_type": "execute_result",
          "data": {
            "text/plain": [
              "  Case_ID  Age Marital_Status   Employment_Status         Income Level  \\\n",
              "0  AHU235   20         Single          Unemployed           Low Income   \n",
              "1  AHU249   19        Married       Self-employed           Low Income   \n",
              "2  AHU123   27         Single  Part-time employed  Lower Middle Income   \n",
              "3  AHU107   21         Single             Student           Low Income   \n",
              "4  AHU144   18         Single             Student           Low Income   \n",
              "\n",
              "   Health Index Smoking psychological_disorder taken_drugs  \\\n",
              "0             2     Yes                     No          No   \n",
              "1             3     Yes                     No         Yes   \n",
              "2             1     Yes                    Yes         Yes   \n",
              "3             3      No                     No          No   \n",
              "4             1     Yes                     No          No   \n",
              "\n",
              "  dropped_motivation_to_working  ... inablity_to_estimate dryness_or_Redness  \\\n",
              "0                           Yes  ...                  Yes                Yes   \n",
              "1                           Yes  ...                   No                 No   \n",
              "2                           Yes  ...                   No                 No   \n",
              "3                            No  ...                  Yes                 No   \n",
              "4                           Yes  ...                  Yes                Yes   \n",
              "\n",
              "  Fatigue_pallor slow_reactions difficulty_controlling_emotions  \\\n",
              "0            Yes             No                             Yes   \n",
              "1             No            Yes                              No   \n",
              "2             No            Yes                             Yes   \n",
              "3             No            Yes                              No   \n",
              "4            Yes            Yes                             Yes   \n",
              "\n",
              "  Deterioration_of_physical_appearance Weighted_Stress_Index  \\\n",
              "0                                  Yes             29.026112   \n",
              "1                                  Yes             18.493526   \n",
              "2                                  Yes             11.990000   \n",
              "3                                  Yes             10.030000   \n",
              "4                                  Yes             28.187401   \n",
              "\n",
              "  Risk_of_Legal_Issues Risk_Factor_Score Drug_or_not  \n",
              "0                    7          2.113028         Yes  \n",
              "1                    9          1.911381         Yes  \n",
              "2                    3          2.059167          No  \n",
              "3                    0          1.903612          No  \n",
              "4                    5          2.063855         Yes  \n",
              "\n",
              "[5 rows x 60 columns]"
            ],
            "text/html": [
              "\n",
              "  <div id=\"df-31240108-31be-4535-8988-a151a75d95fd\" class=\"colab-df-container\">\n",
              "    <div>\n",
              "<style scoped>\n",
              "    .dataframe tbody tr th:only-of-type {\n",
              "        vertical-align: middle;\n",
              "    }\n",
              "\n",
              "    .dataframe tbody tr th {\n",
              "        vertical-align: top;\n",
              "    }\n",
              "\n",
              "    .dataframe thead th {\n",
              "        text-align: right;\n",
              "    }\n",
              "</style>\n",
              "<table border=\"1\" class=\"dataframe\">\n",
              "  <thead>\n",
              "    <tr style=\"text-align: right;\">\n",
              "      <th></th>\n",
              "      <th>Case_ID</th>\n",
              "      <th>Age</th>\n",
              "      <th>Marital_Status</th>\n",
              "      <th>Employment_Status</th>\n",
              "      <th>Income Level</th>\n",
              "      <th>Health Index</th>\n",
              "      <th>Smoking</th>\n",
              "      <th>psychological_disorder</th>\n",
              "      <th>taken_drugs</th>\n",
              "      <th>dropped_motivation_to_working</th>\n",
              "      <th>...</th>\n",
              "      <th>inablity_to_estimate</th>\n",
              "      <th>dryness_or_Redness</th>\n",
              "      <th>Fatigue_pallor</th>\n",
              "      <th>slow_reactions</th>\n",
              "      <th>difficulty_controlling_emotions</th>\n",
              "      <th>Deterioration_of_physical_appearance</th>\n",
              "      <th>Weighted_Stress_Index</th>\n",
              "      <th>Risk_of_Legal_Issues</th>\n",
              "      <th>Risk_Factor_Score</th>\n",
              "      <th>Drug_or_not</th>\n",
              "    </tr>\n",
              "  </thead>\n",
              "  <tbody>\n",
              "    <tr>\n",
              "      <th>0</th>\n",
              "      <td>AHU235</td>\n",
              "      <td>20</td>\n",
              "      <td>Single</td>\n",
              "      <td>Unemployed</td>\n",
              "      <td>Low Income</td>\n",
              "      <td>2</td>\n",
              "      <td>Yes</td>\n",
              "      <td>No</td>\n",
              "      <td>No</td>\n",
              "      <td>Yes</td>\n",
              "      <td>...</td>\n",
              "      <td>Yes</td>\n",
              "      <td>Yes</td>\n",
              "      <td>Yes</td>\n",
              "      <td>No</td>\n",
              "      <td>Yes</td>\n",
              "      <td>Yes</td>\n",
              "      <td>29.026112</td>\n",
              "      <td>7</td>\n",
              "      <td>2.113028</td>\n",
              "      <td>Yes</td>\n",
              "    </tr>\n",
              "    <tr>\n",
              "      <th>1</th>\n",
              "      <td>AHU249</td>\n",
              "      <td>19</td>\n",
              "      <td>Married</td>\n",
              "      <td>Self-employed</td>\n",
              "      <td>Low Income</td>\n",
              "      <td>3</td>\n",
              "      <td>Yes</td>\n",
              "      <td>No</td>\n",
              "      <td>Yes</td>\n",
              "      <td>Yes</td>\n",
              "      <td>...</td>\n",
              "      <td>No</td>\n",
              "      <td>No</td>\n",
              "      <td>No</td>\n",
              "      <td>Yes</td>\n",
              "      <td>No</td>\n",
              "      <td>Yes</td>\n",
              "      <td>18.493526</td>\n",
              "      <td>9</td>\n",
              "      <td>1.911381</td>\n",
              "      <td>Yes</td>\n",
              "    </tr>\n",
              "    <tr>\n",
              "      <th>2</th>\n",
              "      <td>AHU123</td>\n",
              "      <td>27</td>\n",
              "      <td>Single</td>\n",
              "      <td>Part-time employed</td>\n",
              "      <td>Lower Middle Income</td>\n",
              "      <td>1</td>\n",
              "      <td>Yes</td>\n",
              "      <td>Yes</td>\n",
              "      <td>Yes</td>\n",
              "      <td>Yes</td>\n",
              "      <td>...</td>\n",
              "      <td>No</td>\n",
              "      <td>No</td>\n",
              "      <td>No</td>\n",
              "      <td>Yes</td>\n",
              "      <td>Yes</td>\n",
              "      <td>Yes</td>\n",
              "      <td>11.990000</td>\n",
              "      <td>3</td>\n",
              "      <td>2.059167</td>\n",
              "      <td>No</td>\n",
              "    </tr>\n",
              "    <tr>\n",
              "      <th>3</th>\n",
              "      <td>AHU107</td>\n",
              "      <td>21</td>\n",
              "      <td>Single</td>\n",
              "      <td>Student</td>\n",
              "      <td>Low Income</td>\n",
              "      <td>3</td>\n",
              "      <td>No</td>\n",
              "      <td>No</td>\n",
              "      <td>No</td>\n",
              "      <td>No</td>\n",
              "      <td>...</td>\n",
              "      <td>Yes</td>\n",
              "      <td>No</td>\n",
              "      <td>No</td>\n",
              "      <td>Yes</td>\n",
              "      <td>No</td>\n",
              "      <td>Yes</td>\n",
              "      <td>10.030000</td>\n",
              "      <td>0</td>\n",
              "      <td>1.903612</td>\n",
              "      <td>No</td>\n",
              "    </tr>\n",
              "    <tr>\n",
              "      <th>4</th>\n",
              "      <td>AHU144</td>\n",
              "      <td>18</td>\n",
              "      <td>Single</td>\n",
              "      <td>Student</td>\n",
              "      <td>Low Income</td>\n",
              "      <td>1</td>\n",
              "      <td>Yes</td>\n",
              "      <td>No</td>\n",
              "      <td>No</td>\n",
              "      <td>Yes</td>\n",
              "      <td>...</td>\n",
              "      <td>Yes</td>\n",
              "      <td>Yes</td>\n",
              "      <td>Yes</td>\n",
              "      <td>Yes</td>\n",
              "      <td>Yes</td>\n",
              "      <td>Yes</td>\n",
              "      <td>28.187401</td>\n",
              "      <td>5</td>\n",
              "      <td>2.063855</td>\n",
              "      <td>Yes</td>\n",
              "    </tr>\n",
              "  </tbody>\n",
              "</table>\n",
              "<p>5 rows × 60 columns</p>\n",
              "</div>\n",
              "    <div class=\"colab-df-buttons\">\n",
              "\n",
              "  <div class=\"colab-df-container\">\n",
              "    <button class=\"colab-df-convert\" onclick=\"convertToInteractive('df-31240108-31be-4535-8988-a151a75d95fd')\"\n",
              "            title=\"Convert this dataframe to an interactive table.\"\n",
              "            style=\"display:none;\">\n",
              "\n",
              "  <svg xmlns=\"http://www.w3.org/2000/svg\" height=\"24px\" viewBox=\"0 -960 960 960\">\n",
              "    <path d=\"M120-120v-720h720v720H120Zm60-500h600v-160H180v160Zm220 220h160v-160H400v160Zm0 220h160v-160H400v160ZM180-400h160v-160H180v160Zm440 0h160v-160H620v160ZM180-180h160v-160H180v160Zm440 0h160v-160H620v160Z\"/>\n",
              "  </svg>\n",
              "    </button>\n",
              "\n",
              "  <style>\n",
              "    .colab-df-container {\n",
              "      display:flex;\n",
              "      gap: 12px;\n",
              "    }\n",
              "\n",
              "    .colab-df-convert {\n",
              "      background-color: #E8F0FE;\n",
              "      border: none;\n",
              "      border-radius: 50%;\n",
              "      cursor: pointer;\n",
              "      display: none;\n",
              "      fill: #1967D2;\n",
              "      height: 32px;\n",
              "      padding: 0 0 0 0;\n",
              "      width: 32px;\n",
              "    }\n",
              "\n",
              "    .colab-df-convert:hover {\n",
              "      background-color: #E2EBFA;\n",
              "      box-shadow: 0px 1px 2px rgba(60, 64, 67, 0.3), 0px 1px 3px 1px rgba(60, 64, 67, 0.15);\n",
              "      fill: #174EA6;\n",
              "    }\n",
              "\n",
              "    .colab-df-buttons div {\n",
              "      margin-bottom: 4px;\n",
              "    }\n",
              "\n",
              "    [theme=dark] .colab-df-convert {\n",
              "      background-color: #3B4455;\n",
              "      fill: #D2E3FC;\n",
              "    }\n",
              "\n",
              "    [theme=dark] .colab-df-convert:hover {\n",
              "      background-color: #434B5C;\n",
              "      box-shadow: 0px 1px 3px 1px rgba(0, 0, 0, 0.15);\n",
              "      filter: drop-shadow(0px 1px 2px rgba(0, 0, 0, 0.3));\n",
              "      fill: #FFFFFF;\n",
              "    }\n",
              "  </style>\n",
              "\n",
              "    <script>\n",
              "      const buttonEl =\n",
              "        document.querySelector('#df-31240108-31be-4535-8988-a151a75d95fd button.colab-df-convert');\n",
              "      buttonEl.style.display =\n",
              "        google.colab.kernel.accessAllowed ? 'block' : 'none';\n",
              "\n",
              "      async function convertToInteractive(key) {\n",
              "        const element = document.querySelector('#df-31240108-31be-4535-8988-a151a75d95fd');\n",
              "        const dataTable =\n",
              "          await google.colab.kernel.invokeFunction('convertToInteractive',\n",
              "                                                    [key], {});\n",
              "        if (!dataTable) return;\n",
              "\n",
              "        const docLinkHtml = 'Like what you see? Visit the ' +\n",
              "          '<a target=\"_blank\" href=https://colab.research.google.com/notebooks/data_table.ipynb>data table notebook</a>'\n",
              "          + ' to learn more about interactive tables.';\n",
              "        element.innerHTML = '';\n",
              "        dataTable['output_type'] = 'display_data';\n",
              "        await google.colab.output.renderOutput(dataTable, element);\n",
              "        const docLink = document.createElement('div');\n",
              "        docLink.innerHTML = docLinkHtml;\n",
              "        element.appendChild(docLink);\n",
              "      }\n",
              "    </script>\n",
              "  </div>\n",
              "\n",
              "\n",
              "<div id=\"df-10ef8b1c-30ef-403a-bd74-1a687deeb695\">\n",
              "  <button class=\"colab-df-quickchart\" onclick=\"quickchart('df-10ef8b1c-30ef-403a-bd74-1a687deeb695')\"\n",
              "            title=\"Suggest charts\"\n",
              "            style=\"display:none;\">\n",
              "\n",
              "<svg xmlns=\"http://www.w3.org/2000/svg\" height=\"24px\"viewBox=\"0 0 24 24\"\n",
              "     width=\"24px\">\n",
              "    <g>\n",
              "        <path d=\"M19 3H5c-1.1 0-2 .9-2 2v14c0 1.1.9 2 2 2h14c1.1 0 2-.9 2-2V5c0-1.1-.9-2-2-2zM9 17H7v-7h2v7zm4 0h-2V7h2v10zm4 0h-2v-4h2v4z\"/>\n",
              "    </g>\n",
              "</svg>\n",
              "  </button>\n",
              "\n",
              "<style>\n",
              "  .colab-df-quickchart {\n",
              "      --bg-color: #E8F0FE;\n",
              "      --fill-color: #1967D2;\n",
              "      --hover-bg-color: #E2EBFA;\n",
              "      --hover-fill-color: #174EA6;\n",
              "      --disabled-fill-color: #AAA;\n",
              "      --disabled-bg-color: #DDD;\n",
              "  }\n",
              "\n",
              "  [theme=dark] .colab-df-quickchart {\n",
              "      --bg-color: #3B4455;\n",
              "      --fill-color: #D2E3FC;\n",
              "      --hover-bg-color: #434B5C;\n",
              "      --hover-fill-color: #FFFFFF;\n",
              "      --disabled-bg-color: #3B4455;\n",
              "      --disabled-fill-color: #666;\n",
              "  }\n",
              "\n",
              "  .colab-df-quickchart {\n",
              "    background-color: var(--bg-color);\n",
              "    border: none;\n",
              "    border-radius: 50%;\n",
              "    cursor: pointer;\n",
              "    display: none;\n",
              "    fill: var(--fill-color);\n",
              "    height: 32px;\n",
              "    padding: 0;\n",
              "    width: 32px;\n",
              "  }\n",
              "\n",
              "  .colab-df-quickchart:hover {\n",
              "    background-color: var(--hover-bg-color);\n",
              "    box-shadow: 0 1px 2px rgba(60, 64, 67, 0.3), 0 1px 3px 1px rgba(60, 64, 67, 0.15);\n",
              "    fill: var(--button-hover-fill-color);\n",
              "  }\n",
              "\n",
              "  .colab-df-quickchart-complete:disabled,\n",
              "  .colab-df-quickchart-complete:disabled:hover {\n",
              "    background-color: var(--disabled-bg-color);\n",
              "    fill: var(--disabled-fill-color);\n",
              "    box-shadow: none;\n",
              "  }\n",
              "\n",
              "  .colab-df-spinner {\n",
              "    border: 2px solid var(--fill-color);\n",
              "    border-color: transparent;\n",
              "    border-bottom-color: var(--fill-color);\n",
              "    animation:\n",
              "      spin 1s steps(1) infinite;\n",
              "  }\n",
              "\n",
              "  @keyframes spin {\n",
              "    0% {\n",
              "      border-color: transparent;\n",
              "      border-bottom-color: var(--fill-color);\n",
              "      border-left-color: var(--fill-color);\n",
              "    }\n",
              "    20% {\n",
              "      border-color: transparent;\n",
              "      border-left-color: var(--fill-color);\n",
              "      border-top-color: var(--fill-color);\n",
              "    }\n",
              "    30% {\n",
              "      border-color: transparent;\n",
              "      border-left-color: var(--fill-color);\n",
              "      border-top-color: var(--fill-color);\n",
              "      border-right-color: var(--fill-color);\n",
              "    }\n",
              "    40% {\n",
              "      border-color: transparent;\n",
              "      border-right-color: var(--fill-color);\n",
              "      border-top-color: var(--fill-color);\n",
              "    }\n",
              "    60% {\n",
              "      border-color: transparent;\n",
              "      border-right-color: var(--fill-color);\n",
              "    }\n",
              "    80% {\n",
              "      border-color: transparent;\n",
              "      border-right-color: var(--fill-color);\n",
              "      border-bottom-color: var(--fill-color);\n",
              "    }\n",
              "    90% {\n",
              "      border-color: transparent;\n",
              "      border-bottom-color: var(--fill-color);\n",
              "    }\n",
              "  }\n",
              "</style>\n",
              "\n",
              "  <script>\n",
              "    async function quickchart(key) {\n",
              "      const quickchartButtonEl =\n",
              "        document.querySelector('#' + key + ' button');\n",
              "      quickchartButtonEl.disabled = true;  // To prevent multiple clicks.\n",
              "      quickchartButtonEl.classList.add('colab-df-spinner');\n",
              "      try {\n",
              "        const charts = await google.colab.kernel.invokeFunction(\n",
              "            'suggestCharts', [key], {});\n",
              "      } catch (error) {\n",
              "        console.error('Error during call to suggestCharts:', error);\n",
              "      }\n",
              "      quickchartButtonEl.classList.remove('colab-df-spinner');\n",
              "      quickchartButtonEl.classList.add('colab-df-quickchart-complete');\n",
              "    }\n",
              "    (() => {\n",
              "      let quickchartButtonEl =\n",
              "        document.querySelector('#df-10ef8b1c-30ef-403a-bd74-1a687deeb695 button');\n",
              "      quickchartButtonEl.style.display =\n",
              "        google.colab.kernel.accessAllowed ? 'block' : 'none';\n",
              "    })();\n",
              "  </script>\n",
              "</div>\n",
              "\n",
              "    </div>\n",
              "  </div>\n"
            ],
            "application/vnd.google.colaboratory.intrinsic+json": {
              "type": "dataframe",
              "variable_name": "df"
            }
          },
          "metadata": {},
          "execution_count": 3
        }
      ]
    },
    {
      "cell_type": "code",
      "source": [
        "df['Smoking']"
      ],
      "metadata": {
        "colab": {
          "base_uri": "https://localhost:8080/"
        },
        "id": "lSbiRUW8_xNp",
        "outputId": "d63c33f6-0a0e-4b1e-c755-0993778cfa95"
      },
      "execution_count": null,
      "outputs": [
        {
          "output_type": "execute_result",
          "data": {
            "text/plain": [
              "0      Yes\n",
              "1      Yes\n",
              "2      Yes\n",
              "3       No\n",
              "4      Yes\n",
              "      ... \n",
              "222     No\n",
              "223    Yes\n",
              "224    Yes\n",
              "225    Yes\n",
              "226    Yes\n",
              "Name: Smoking, Length: 227, dtype: object"
            ]
          },
          "metadata": {},
          "execution_count": 4
        }
      ]
    },
    {
      "cell_type": "code",
      "source": [
        "df['Age'].mean()"
      ],
      "metadata": {
        "colab": {
          "base_uri": "https://localhost:8080/"
        },
        "id": "4VtlwL0gASnh",
        "outputId": "d916dc23-6c73-4182-f48f-80f4ac70187d"
      },
      "execution_count": null,
      "outputs": [
        {
          "output_type": "execute_result",
          "data": {
            "text/plain": [
              "23.740088105726873"
            ]
          },
          "metadata": {},
          "execution_count": 11
        }
      ]
    },
    {
      "cell_type": "code",
      "source": [
        "# checking if clean\n",
        "df.isnull().sum().sum()"
      ],
      "metadata": {
        "id": "BXY-z9oIV4y4"
      },
      "execution_count": null,
      "outputs": []
    },
    {
      "cell_type": "code",
      "source": [
        "# CHOSEN PROJECT & COLUMNS\n",
        "\n",
        "'''  Mental Health and Emotional Stability.\n",
        "\n",
        "Needed Columns\n",
        "\n",
        "- psychological_disorder\n",
        "\tYES, general info.\n",
        "\n",
        "- irritable_mood\n",
        "\tYES, emotional stability.\n",
        "\n",
        "- hallucinations\n",
        "\tYES, mental health.\n",
        "\n",
        "- unjustified_anxiety_fear\n",
        "\tYES, mental health.\n",
        "\n",
        "- feeling_in_good_health\n",
        "- feeling_of_superiority\n",
        "\tYES, emotional stability.\n",
        "\tcan also lead to mania (bpd, bipolar, etc.)\n",
        "\n",
        "- aggressive_behavior\n",
        "\tYES, emotional stability.\n",
        "\n",
        "- suicidal_behavior\n",
        "\tYES, both.\n",
        "\n",
        "- difficulty_controlling_emotions\n",
        "\tYES, emotional stability.\n",
        "\n",
        "- Weighted_Stress_Index\n",
        "\tYES, general info.\n",
        "\n",
        "10 total columns.\n",
        "'''"
      ],
      "metadata": {
        "id": "r6adDNGsV9Xq"
      },
      "execution_count": null,
      "outputs": []
    },
    {
      "cell_type": "code",
      "source": [
        "# data types\n",
        "df.info()"
      ],
      "metadata": {
        "id": "4-UNJkipa3dy",
        "colab": {
          "base_uri": "https://localhost:8080/"
        },
        "outputId": "f056983b-0cc4-499b-e3d5-f9c153dbf3c2"
      },
      "execution_count": null,
      "outputs": [
        {
          "output_type": "stream",
          "name": "stdout",
          "text": [
            "<class 'pandas.core.frame.DataFrame'>\n",
            "RangeIndex: 227 entries, 0 to 226\n",
            "Data columns (total 60 columns):\n",
            " #   Column                                Non-Null Count  Dtype  \n",
            "---  ------                                --------------  -----  \n",
            " 0   Case_ID                               227 non-null    object \n",
            " 1   Age                                   227 non-null    int64  \n",
            " 2   Marital_Status                        227 non-null    object \n",
            " 3   Employment_Status                     227 non-null    object \n",
            " 4   Income Level                          227 non-null    object \n",
            " 5   Health Index                          227 non-null    int64  \n",
            " 6   Smoking                               227 non-null    object \n",
            " 7   psychological_disorder                227 non-null    object \n",
            " 8   taken_drugs                           227 non-null    object \n",
            " 9   dropped_motivation_to_working         227 non-null    object \n",
            " 10  absence_from_work                     227 non-null    object \n",
            " 11  find_exotic_tools                     227 non-null    object \n",
            " 12  sleeping_habits                       227 non-null    object \n",
            " 13  headache                              227 non-null    object \n",
            " 14  decreased_social_interaction          227 non-null    object \n",
            " 15  increased_personal_expenses           227 non-null    object \n",
            " 16  selling_house_content                 227 non-null    object \n",
            " 17  commit_stole                          227 non-null    object \n",
            " 18  lying                                 227 non-null    object \n",
            " 19  difficulty_speaking_expressing        227 non-null    object \n",
            " 20  secretive_suspicious_behavior         227 non-null    object \n",
            " 21  increased_respiratory_rate            227 non-null    object \n",
            " 22  fabricating_family_problems           227 non-null    object \n",
            " 23  car_crash                             227 non-null    object \n",
            " 24  irritable_mood                        227 non-null    object \n",
            " 25  hallucinations                        227 non-null    object \n",
            " 26  heart_palpitations                    227 non-null    object \n",
            " 27  unjustified_anxiety_fear              227 non-null    object \n",
            " 28  Nausea                                227 non-null    object \n",
            " 29  Hyperactivity                         227 non-null    object \n",
            " 30  feeling_in_good_health                227 non-null    object \n",
            " 31  feeling_of_superiority                227 non-null    object \n",
            " 32  suspension_in_issues                  227 non-null    object \n",
            " 33  high_blood_pressure                   227 non-null    object \n",
            " 34  Mydriasis                             227 non-null    object \n",
            " 35  diaphoresis                           227 non-null    object \n",
            " 36  weight_changed                        227 non-null    object \n",
            " 37  memory_impairment                     227 non-null    object \n",
            " 38  aggressive_behavior                   227 non-null    object \n",
            " 39  high_body_temperature                 227 non-null    object \n",
            " 40  hand_shakes                           227 non-null    object \n",
            " 41  skin_redness                          227 non-null    object \n",
            " 42  dermatological_problems               227 non-null    object \n",
            " 43  difficulty_completing_tasks           227 non-null    object \n",
            " 44  repeating_actions                     227 non-null    object \n",
            " 45  bad_breath_cracked_lips               227 non-null    object \n",
            " 46  cold_hands                            227 non-null    object \n",
            " 47  suicidal_behavior                     227 non-null    object \n",
            " 48  distracted_and_absent_minded          227 non-null    object \n",
            " 49  difficulty_to_relaxing                227 non-null    object \n",
            " 50  inablity_to_estimate                  227 non-null    object \n",
            " 51  dryness_or_Redness                    227 non-null    object \n",
            " 52  Fatigue_pallor                        227 non-null    object \n",
            " 53  slow_reactions                        227 non-null    object \n",
            " 54  difficulty_controlling_emotions       227 non-null    object \n",
            " 55  Deterioration_of_physical_appearance  227 non-null    object \n",
            " 56  Weighted_Stress_Index                 227 non-null    float64\n",
            " 57  Risk_of_Legal_Issues                  227 non-null    int64  \n",
            " 58  Risk_Factor_Score                     227 non-null    float64\n",
            " 59  Drug_or_not                           227 non-null    object \n",
            "dtypes: float64(2), int64(3), object(55)\n",
            "memory usage: 106.5+ KB\n"
          ]
        }
      ]
    },
    {
      "cell_type": "code",
      "source": [
        "df['Age'].describe()"
      ],
      "metadata": {
        "id": "Ze5ZGWp1Y6Me",
        "colab": {
          "base_uri": "https://localhost:8080/"
        },
        "outputId": "026aac69-da5a-4af3-ae96-f9ba81e25e2b"
      },
      "execution_count": null,
      "outputs": [
        {
          "output_type": "execute_result",
          "data": {
            "text/plain": [
              "count    227.000000\n",
              "mean      23.740088\n",
              "std        7.398178\n",
              "min       14.000000\n",
              "25%       18.000000\n",
              "50%       21.000000\n",
              "75%       30.000000\n",
              "max       39.000000\n",
              "Name: Age, dtype: float64"
            ]
          },
          "metadata": {},
          "execution_count": 17
        }
      ]
    },
    {
      "cell_type": "code",
      "source": [
        "df.describe()"
      ],
      "metadata": {
        "colab": {
          "base_uri": "https://localhost:8080/",
          "height": 300
        },
        "id": "lWUsweu6TJRR",
        "outputId": "2c37e79a-2ad0-46ff-84bb-72a1f744c2fb"
      },
      "execution_count": null,
      "outputs": [
        {
          "output_type": "execute_result",
          "data": {
            "text/plain": [
              "              Age  Health Index  Weighted_Stress_Index  Risk_of_Legal_Issues  \\\n",
              "count  227.000000    227.000000             227.000000            227.000000   \n",
              "mean    23.740088      2.656388              16.869343              4.334802   \n",
              "std      7.398178      1.773949              11.730187              2.998934   \n",
              "min     14.000000      0.000000               0.000000              0.000000   \n",
              "25%     18.000000      1.000000               3.800000              1.000000   \n",
              "50%     21.000000      3.000000              19.921076              5.000000   \n",
              "75%     30.000000      5.000000              27.123437              7.000000   \n",
              "max     39.000000      5.000000              33.791716              9.000000   \n",
              "\n",
              "       Risk_Factor_Score  \n",
              "count         227.000000  \n",
              "mean            1.503809  \n",
              "std             0.793593  \n",
              "min             0.000000  \n",
              "25%             1.063169  \n",
              "50%             1.896634  \n",
              "75%             2.032541  \n",
              "max             3.373045  "
            ],
            "text/html": [
              "\n",
              "  <div id=\"df-e367365a-28dd-4b56-88e9-5387e7f755af\" class=\"colab-df-container\">\n",
              "    <div>\n",
              "<style scoped>\n",
              "    .dataframe tbody tr th:only-of-type {\n",
              "        vertical-align: middle;\n",
              "    }\n",
              "\n",
              "    .dataframe tbody tr th {\n",
              "        vertical-align: top;\n",
              "    }\n",
              "\n",
              "    .dataframe thead th {\n",
              "        text-align: right;\n",
              "    }\n",
              "</style>\n",
              "<table border=\"1\" class=\"dataframe\">\n",
              "  <thead>\n",
              "    <tr style=\"text-align: right;\">\n",
              "      <th></th>\n",
              "      <th>Age</th>\n",
              "      <th>Health Index</th>\n",
              "      <th>Weighted_Stress_Index</th>\n",
              "      <th>Risk_of_Legal_Issues</th>\n",
              "      <th>Risk_Factor_Score</th>\n",
              "    </tr>\n",
              "  </thead>\n",
              "  <tbody>\n",
              "    <tr>\n",
              "      <th>count</th>\n",
              "      <td>227.000000</td>\n",
              "      <td>227.000000</td>\n",
              "      <td>227.000000</td>\n",
              "      <td>227.000000</td>\n",
              "      <td>227.000000</td>\n",
              "    </tr>\n",
              "    <tr>\n",
              "      <th>mean</th>\n",
              "      <td>23.740088</td>\n",
              "      <td>2.656388</td>\n",
              "      <td>16.869343</td>\n",
              "      <td>4.334802</td>\n",
              "      <td>1.503809</td>\n",
              "    </tr>\n",
              "    <tr>\n",
              "      <th>std</th>\n",
              "      <td>7.398178</td>\n",
              "      <td>1.773949</td>\n",
              "      <td>11.730187</td>\n",
              "      <td>2.998934</td>\n",
              "      <td>0.793593</td>\n",
              "    </tr>\n",
              "    <tr>\n",
              "      <th>min</th>\n",
              "      <td>14.000000</td>\n",
              "      <td>0.000000</td>\n",
              "      <td>0.000000</td>\n",
              "      <td>0.000000</td>\n",
              "      <td>0.000000</td>\n",
              "    </tr>\n",
              "    <tr>\n",
              "      <th>25%</th>\n",
              "      <td>18.000000</td>\n",
              "      <td>1.000000</td>\n",
              "      <td>3.800000</td>\n",
              "      <td>1.000000</td>\n",
              "      <td>1.063169</td>\n",
              "    </tr>\n",
              "    <tr>\n",
              "      <th>50%</th>\n",
              "      <td>21.000000</td>\n",
              "      <td>3.000000</td>\n",
              "      <td>19.921076</td>\n",
              "      <td>5.000000</td>\n",
              "      <td>1.896634</td>\n",
              "    </tr>\n",
              "    <tr>\n",
              "      <th>75%</th>\n",
              "      <td>30.000000</td>\n",
              "      <td>5.000000</td>\n",
              "      <td>27.123437</td>\n",
              "      <td>7.000000</td>\n",
              "      <td>2.032541</td>\n",
              "    </tr>\n",
              "    <tr>\n",
              "      <th>max</th>\n",
              "      <td>39.000000</td>\n",
              "      <td>5.000000</td>\n",
              "      <td>33.791716</td>\n",
              "      <td>9.000000</td>\n",
              "      <td>3.373045</td>\n",
              "    </tr>\n",
              "  </tbody>\n",
              "</table>\n",
              "</div>\n",
              "    <div class=\"colab-df-buttons\">\n",
              "\n",
              "  <div class=\"colab-df-container\">\n",
              "    <button class=\"colab-df-convert\" onclick=\"convertToInteractive('df-e367365a-28dd-4b56-88e9-5387e7f755af')\"\n",
              "            title=\"Convert this dataframe to an interactive table.\"\n",
              "            style=\"display:none;\">\n",
              "\n",
              "  <svg xmlns=\"http://www.w3.org/2000/svg\" height=\"24px\" viewBox=\"0 -960 960 960\">\n",
              "    <path d=\"M120-120v-720h720v720H120Zm60-500h600v-160H180v160Zm220 220h160v-160H400v160Zm0 220h160v-160H400v160ZM180-400h160v-160H180v160Zm440 0h160v-160H620v160ZM180-180h160v-160H180v160Zm440 0h160v-160H620v160Z\"/>\n",
              "  </svg>\n",
              "    </button>\n",
              "\n",
              "  <style>\n",
              "    .colab-df-container {\n",
              "      display:flex;\n",
              "      gap: 12px;\n",
              "    }\n",
              "\n",
              "    .colab-df-convert {\n",
              "      background-color: #E8F0FE;\n",
              "      border: none;\n",
              "      border-radius: 50%;\n",
              "      cursor: pointer;\n",
              "      display: none;\n",
              "      fill: #1967D2;\n",
              "      height: 32px;\n",
              "      padding: 0 0 0 0;\n",
              "      width: 32px;\n",
              "    }\n",
              "\n",
              "    .colab-df-convert:hover {\n",
              "      background-color: #E2EBFA;\n",
              "      box-shadow: 0px 1px 2px rgba(60, 64, 67, 0.3), 0px 1px 3px 1px rgba(60, 64, 67, 0.15);\n",
              "      fill: #174EA6;\n",
              "    }\n",
              "\n",
              "    .colab-df-buttons div {\n",
              "      margin-bottom: 4px;\n",
              "    }\n",
              "\n",
              "    [theme=dark] .colab-df-convert {\n",
              "      background-color: #3B4455;\n",
              "      fill: #D2E3FC;\n",
              "    }\n",
              "\n",
              "    [theme=dark] .colab-df-convert:hover {\n",
              "      background-color: #434B5C;\n",
              "      box-shadow: 0px 1px 3px 1px rgba(0, 0, 0, 0.15);\n",
              "      filter: drop-shadow(0px 1px 2px rgba(0, 0, 0, 0.3));\n",
              "      fill: #FFFFFF;\n",
              "    }\n",
              "  </style>\n",
              "\n",
              "    <script>\n",
              "      const buttonEl =\n",
              "        document.querySelector('#df-e367365a-28dd-4b56-88e9-5387e7f755af button.colab-df-convert');\n",
              "      buttonEl.style.display =\n",
              "        google.colab.kernel.accessAllowed ? 'block' : 'none';\n",
              "\n",
              "      async function convertToInteractive(key) {\n",
              "        const element = document.querySelector('#df-e367365a-28dd-4b56-88e9-5387e7f755af');\n",
              "        const dataTable =\n",
              "          await google.colab.kernel.invokeFunction('convertToInteractive',\n",
              "                                                    [key], {});\n",
              "        if (!dataTable) return;\n",
              "\n",
              "        const docLinkHtml = 'Like what you see? Visit the ' +\n",
              "          '<a target=\"_blank\" href=https://colab.research.google.com/notebooks/data_table.ipynb>data table notebook</a>'\n",
              "          + ' to learn more about interactive tables.';\n",
              "        element.innerHTML = '';\n",
              "        dataTable['output_type'] = 'display_data';\n",
              "        await google.colab.output.renderOutput(dataTable, element);\n",
              "        const docLink = document.createElement('div');\n",
              "        docLink.innerHTML = docLinkHtml;\n",
              "        element.appendChild(docLink);\n",
              "      }\n",
              "    </script>\n",
              "  </div>\n",
              "\n",
              "\n",
              "<div id=\"df-c138c2f1-07e5-4cea-a024-c4febea4e542\">\n",
              "  <button class=\"colab-df-quickchart\" onclick=\"quickchart('df-c138c2f1-07e5-4cea-a024-c4febea4e542')\"\n",
              "            title=\"Suggest charts\"\n",
              "            style=\"display:none;\">\n",
              "\n",
              "<svg xmlns=\"http://www.w3.org/2000/svg\" height=\"24px\"viewBox=\"0 0 24 24\"\n",
              "     width=\"24px\">\n",
              "    <g>\n",
              "        <path d=\"M19 3H5c-1.1 0-2 .9-2 2v14c0 1.1.9 2 2 2h14c1.1 0 2-.9 2-2V5c0-1.1-.9-2-2-2zM9 17H7v-7h2v7zm4 0h-2V7h2v10zm4 0h-2v-4h2v4z\"/>\n",
              "    </g>\n",
              "</svg>\n",
              "  </button>\n",
              "\n",
              "<style>\n",
              "  .colab-df-quickchart {\n",
              "      --bg-color: #E8F0FE;\n",
              "      --fill-color: #1967D2;\n",
              "      --hover-bg-color: #E2EBFA;\n",
              "      --hover-fill-color: #174EA6;\n",
              "      --disabled-fill-color: #AAA;\n",
              "      --disabled-bg-color: #DDD;\n",
              "  }\n",
              "\n",
              "  [theme=dark] .colab-df-quickchart {\n",
              "      --bg-color: #3B4455;\n",
              "      --fill-color: #D2E3FC;\n",
              "      --hover-bg-color: #434B5C;\n",
              "      --hover-fill-color: #FFFFFF;\n",
              "      --disabled-bg-color: #3B4455;\n",
              "      --disabled-fill-color: #666;\n",
              "  }\n",
              "\n",
              "  .colab-df-quickchart {\n",
              "    background-color: var(--bg-color);\n",
              "    border: none;\n",
              "    border-radius: 50%;\n",
              "    cursor: pointer;\n",
              "    display: none;\n",
              "    fill: var(--fill-color);\n",
              "    height: 32px;\n",
              "    padding: 0;\n",
              "    width: 32px;\n",
              "  }\n",
              "\n",
              "  .colab-df-quickchart:hover {\n",
              "    background-color: var(--hover-bg-color);\n",
              "    box-shadow: 0 1px 2px rgba(60, 64, 67, 0.3), 0 1px 3px 1px rgba(60, 64, 67, 0.15);\n",
              "    fill: var(--button-hover-fill-color);\n",
              "  }\n",
              "\n",
              "  .colab-df-quickchart-complete:disabled,\n",
              "  .colab-df-quickchart-complete:disabled:hover {\n",
              "    background-color: var(--disabled-bg-color);\n",
              "    fill: var(--disabled-fill-color);\n",
              "    box-shadow: none;\n",
              "  }\n",
              "\n",
              "  .colab-df-spinner {\n",
              "    border: 2px solid var(--fill-color);\n",
              "    border-color: transparent;\n",
              "    border-bottom-color: var(--fill-color);\n",
              "    animation:\n",
              "      spin 1s steps(1) infinite;\n",
              "  }\n",
              "\n",
              "  @keyframes spin {\n",
              "    0% {\n",
              "      border-color: transparent;\n",
              "      border-bottom-color: var(--fill-color);\n",
              "      border-left-color: var(--fill-color);\n",
              "    }\n",
              "    20% {\n",
              "      border-color: transparent;\n",
              "      border-left-color: var(--fill-color);\n",
              "      border-top-color: var(--fill-color);\n",
              "    }\n",
              "    30% {\n",
              "      border-color: transparent;\n",
              "      border-left-color: var(--fill-color);\n",
              "      border-top-color: var(--fill-color);\n",
              "      border-right-color: var(--fill-color);\n",
              "    }\n",
              "    40% {\n",
              "      border-color: transparent;\n",
              "      border-right-color: var(--fill-color);\n",
              "      border-top-color: var(--fill-color);\n",
              "    }\n",
              "    60% {\n",
              "      border-color: transparent;\n",
              "      border-right-color: var(--fill-color);\n",
              "    }\n",
              "    80% {\n",
              "      border-color: transparent;\n",
              "      border-right-color: var(--fill-color);\n",
              "      border-bottom-color: var(--fill-color);\n",
              "    }\n",
              "    90% {\n",
              "      border-color: transparent;\n",
              "      border-bottom-color: var(--fill-color);\n",
              "    }\n",
              "  }\n",
              "</style>\n",
              "\n",
              "  <script>\n",
              "    async function quickchart(key) {\n",
              "      const quickchartButtonEl =\n",
              "        document.querySelector('#' + key + ' button');\n",
              "      quickchartButtonEl.disabled = true;  // To prevent multiple clicks.\n",
              "      quickchartButtonEl.classList.add('colab-df-spinner');\n",
              "      try {\n",
              "        const charts = await google.colab.kernel.invokeFunction(\n",
              "            'suggestCharts', [key], {});\n",
              "      } catch (error) {\n",
              "        console.error('Error during call to suggestCharts:', error);\n",
              "      }\n",
              "      quickchartButtonEl.classList.remove('colab-df-spinner');\n",
              "      quickchartButtonEl.classList.add('colab-df-quickchart-complete');\n",
              "    }\n",
              "    (() => {\n",
              "      let quickchartButtonEl =\n",
              "        document.querySelector('#df-c138c2f1-07e5-4cea-a024-c4febea4e542 button');\n",
              "      quickchartButtonEl.style.display =\n",
              "        google.colab.kernel.accessAllowed ? 'block' : 'none';\n",
              "    })();\n",
              "  </script>\n",
              "</div>\n",
              "\n",
              "    </div>\n",
              "  </div>\n"
            ],
            "application/vnd.google.colaboratory.intrinsic+json": {
              "type": "dataframe",
              "summary": "{\n  \"name\": \"df\",\n  \"rows\": 8,\n  \"fields\": [\n    {\n      \"column\": \"Age\",\n      \"properties\": {\n        \"dtype\": \"number\",\n        \"std\": 73.15950009893338,\n        \"min\": 7.39817760334328,\n        \"max\": 227.0,\n        \"num_unique_values\": 8,\n        \"samples\": [\n          23.740088105726873,\n          21.0,\n          227.0\n        ],\n        \"semantic_type\": \"\",\n        \"description\": \"\"\n      }\n    },\n    {\n      \"column\": \"Health Index\",\n      \"properties\": {\n        \"dtype\": \"number\",\n        \"std\": 79.34526453080001,\n        \"min\": 0.0,\n        \"max\": 227.0,\n        \"num_unique_values\": 7,\n        \"samples\": [\n          227.0,\n          2.656387665198238,\n          3.0\n        ],\n        \"semantic_type\": \"\",\n        \"description\": \"\"\n      }\n    },\n    {\n      \"column\": \"Weighted_Stress_Index\",\n      \"properties\": {\n        \"dtype\": \"number\",\n        \"std\": 75.37522871937395,\n        \"min\": 0.0,\n        \"max\": 227.0,\n        \"num_unique_values\": 8,\n        \"samples\": [\n          16.8693433979163,\n          19.92107552,\n          227.0\n        ],\n        \"semantic_type\": \"\",\n        \"description\": \"\"\n      }\n    },\n    {\n      \"column\": \"Risk_of_Legal_Issues\",\n      \"properties\": {\n        \"dtype\": \"number\",\n        \"std\": 78.830207305822,\n        \"min\": 0.0,\n        \"max\": 227.0,\n        \"num_unique_values\": 8,\n        \"samples\": [\n          4.334801762114537,\n          5.0,\n          227.0\n        ],\n        \"semantic_type\": \"\",\n        \"description\": \"\"\n      }\n    },\n    {\n      \"column\": \"Risk_Factor_Score\",\n      \"properties\": {\n        \"dtype\": \"number\",\n        \"std\": 79.72423651499403,\n        \"min\": 0.0,\n        \"max\": 227.0,\n        \"num_unique_values\": 8,\n        \"samples\": [\n          1.5038085187224668,\n          1.896633548,\n          227.0\n        ],\n        \"semantic_type\": \"\",\n        \"description\": \"\"\n      }\n    }\n  ]\n}"
            }
          },
          "metadata": {},
          "execution_count": 18
        }
      ]
    },
    {
      "cell_type": "code",
      "source": [
        "df['Age'].value_counts()"
      ],
      "metadata": {
        "id": "O4NqP85ZY-Bb",
        "colab": {
          "base_uri": "https://localhost:8080/"
        },
        "outputId": "3f117115-510b-4047-855f-fda466cd6fb5"
      },
      "execution_count": null,
      "outputs": [
        {
          "output_type": "execute_result",
          "data": {
            "text/plain": [
              "Age\n",
              "20    18\n",
              "18    17\n",
              "19    16\n",
              "21    16\n",
              "14    14\n",
              "16    14\n",
              "15    13\n",
              "17    12\n",
              "26    10\n",
              "27     9\n",
              "37     8\n",
              "23     8\n",
              "31     8\n",
              "35     8\n",
              "39     8\n",
              "30     7\n",
              "32     7\n",
              "29     7\n",
              "36     6\n",
              "28     6\n",
              "24     5\n",
              "33     4\n",
              "25     4\n",
              "34     2\n",
              "Name: count, dtype: int64"
            ]
          },
          "metadata": {},
          "execution_count": 19
        }
      ]
    },
    {
      "cell_type": "code",
      "source": [
        "# numerical stats\n",
        "df.describe()\n",
        "\n",
        "  # i really only care about stress index and maybe age here.\n",
        "  # stress: big jump from 25% to 50%, not many outliers it seems."
      ],
      "metadata": {
        "id": "rJUMewEta9FT"
      },
      "execution_count": null,
      "outputs": []
    },
    {
      "cell_type": "code",
      "source": [
        "# heatmap preparation\n",
        "\n",
        "# copying df with needed cols\n",
        "tst = df[['psychological_disorder', 'irritable_mood', 'hallucinations',\n",
        "               'unjustified_anxiety_fear', 'feeling_in_good_health', 'feeling_of_superiority',\n",
        "               'aggressive_behavior', 'suicidal_behavior', 'difficulty_controlling_emotions',\n",
        "               'Weighted_Stress_Index', 'Drug_or_not']].copy()\n",
        "\n",
        "# label encoder library\n",
        "from sklearn.preprocessing import LabelEncoder\n",
        "lbl = LabelEncoder()\n",
        "\n",
        "# cols to encode\n",
        "cols = ['psychological_disorder', 'irritable_mood', 'hallucinations',\n",
        "               'unjustified_anxiety_fear', 'feeling_in_good_health', 'feeling_of_superiority',\n",
        "               'aggressive_behavior', 'suicidal_behavior', 'difficulty_controlling_emotions', 'Drug_or_not']\n",
        "\n",
        "# for loop for ease\n",
        "for c in cols:\n",
        "  tst[c] = lbl.fit_transform(tst[c])\n",
        "tst.head()"
      ],
      "metadata": {
        "id": "R4JKjXjxaWnt",
        "colab": {
          "base_uri": "https://localhost:8080/",
          "height": 226
        },
        "outputId": "cabfb7b8-180a-43d3-9611-49404b8746a5"
      },
      "execution_count": null,
      "outputs": [
        {
          "output_type": "execute_result",
          "data": {
            "text/plain": [
              "   psychological_disorder  irritable_mood  hallucinations  \\\n",
              "0                       0               1               0   \n",
              "1                       0               1               0   \n",
              "2                       1               0               0   \n",
              "3                       0               0               1   \n",
              "4                       0               1               1   \n",
              "\n",
              "   unjustified_anxiety_fear  feeling_in_good_health  feeling_of_superiority  \\\n",
              "0                         1                       0                       0   \n",
              "1                         0                       0                       1   \n",
              "2                         1                       1                       1   \n",
              "3                         0                       0                       0   \n",
              "4                         0                       1                       0   \n",
              "\n",
              "   aggressive_behavior  suicidal_behavior  difficulty_controlling_emotions  \\\n",
              "0                    1                  1                                1   \n",
              "1                    0                  1                                0   \n",
              "2                    0                  0                                1   \n",
              "3                    1                  0                                0   \n",
              "4                    1                  1                                1   \n",
              "\n",
              "   Weighted_Stress_Index  Drug_or_not  \n",
              "0              29.026112            1  \n",
              "1              18.493526            1  \n",
              "2              11.990000            0  \n",
              "3              10.030000            0  \n",
              "4              28.187401            1  "
            ],
            "text/html": [
              "\n",
              "  <div id=\"df-4c2b9da3-c269-4e8b-8b4a-a1db365c2415\" class=\"colab-df-container\">\n",
              "    <div>\n",
              "<style scoped>\n",
              "    .dataframe tbody tr th:only-of-type {\n",
              "        vertical-align: middle;\n",
              "    }\n",
              "\n",
              "    .dataframe tbody tr th {\n",
              "        vertical-align: top;\n",
              "    }\n",
              "\n",
              "    .dataframe thead th {\n",
              "        text-align: right;\n",
              "    }\n",
              "</style>\n",
              "<table border=\"1\" class=\"dataframe\">\n",
              "  <thead>\n",
              "    <tr style=\"text-align: right;\">\n",
              "      <th></th>\n",
              "      <th>psychological_disorder</th>\n",
              "      <th>irritable_mood</th>\n",
              "      <th>hallucinations</th>\n",
              "      <th>unjustified_anxiety_fear</th>\n",
              "      <th>feeling_in_good_health</th>\n",
              "      <th>feeling_of_superiority</th>\n",
              "      <th>aggressive_behavior</th>\n",
              "      <th>suicidal_behavior</th>\n",
              "      <th>difficulty_controlling_emotions</th>\n",
              "      <th>Weighted_Stress_Index</th>\n",
              "      <th>Drug_or_not</th>\n",
              "    </tr>\n",
              "  </thead>\n",
              "  <tbody>\n",
              "    <tr>\n",
              "      <th>0</th>\n",
              "      <td>0</td>\n",
              "      <td>1</td>\n",
              "      <td>0</td>\n",
              "      <td>1</td>\n",
              "      <td>0</td>\n",
              "      <td>0</td>\n",
              "      <td>1</td>\n",
              "      <td>1</td>\n",
              "      <td>1</td>\n",
              "      <td>29.026112</td>\n",
              "      <td>1</td>\n",
              "    </tr>\n",
              "    <tr>\n",
              "      <th>1</th>\n",
              "      <td>0</td>\n",
              "      <td>1</td>\n",
              "      <td>0</td>\n",
              "      <td>0</td>\n",
              "      <td>0</td>\n",
              "      <td>1</td>\n",
              "      <td>0</td>\n",
              "      <td>1</td>\n",
              "      <td>0</td>\n",
              "      <td>18.493526</td>\n",
              "      <td>1</td>\n",
              "    </tr>\n",
              "    <tr>\n",
              "      <th>2</th>\n",
              "      <td>1</td>\n",
              "      <td>0</td>\n",
              "      <td>0</td>\n",
              "      <td>1</td>\n",
              "      <td>1</td>\n",
              "      <td>1</td>\n",
              "      <td>0</td>\n",
              "      <td>0</td>\n",
              "      <td>1</td>\n",
              "      <td>11.990000</td>\n",
              "      <td>0</td>\n",
              "    </tr>\n",
              "    <tr>\n",
              "      <th>3</th>\n",
              "      <td>0</td>\n",
              "      <td>0</td>\n",
              "      <td>1</td>\n",
              "      <td>0</td>\n",
              "      <td>0</td>\n",
              "      <td>0</td>\n",
              "      <td>1</td>\n",
              "      <td>0</td>\n",
              "      <td>0</td>\n",
              "      <td>10.030000</td>\n",
              "      <td>0</td>\n",
              "    </tr>\n",
              "    <tr>\n",
              "      <th>4</th>\n",
              "      <td>0</td>\n",
              "      <td>1</td>\n",
              "      <td>1</td>\n",
              "      <td>0</td>\n",
              "      <td>1</td>\n",
              "      <td>0</td>\n",
              "      <td>1</td>\n",
              "      <td>1</td>\n",
              "      <td>1</td>\n",
              "      <td>28.187401</td>\n",
              "      <td>1</td>\n",
              "    </tr>\n",
              "  </tbody>\n",
              "</table>\n",
              "</div>\n",
              "    <div class=\"colab-df-buttons\">\n",
              "\n",
              "  <div class=\"colab-df-container\">\n",
              "    <button class=\"colab-df-convert\" onclick=\"convertToInteractive('df-4c2b9da3-c269-4e8b-8b4a-a1db365c2415')\"\n",
              "            title=\"Convert this dataframe to an interactive table.\"\n",
              "            style=\"display:none;\">\n",
              "\n",
              "  <svg xmlns=\"http://www.w3.org/2000/svg\" height=\"24px\" viewBox=\"0 -960 960 960\">\n",
              "    <path d=\"M120-120v-720h720v720H120Zm60-500h600v-160H180v160Zm220 220h160v-160H400v160Zm0 220h160v-160H400v160ZM180-400h160v-160H180v160Zm440 0h160v-160H620v160ZM180-180h160v-160H180v160Zm440 0h160v-160H620v160Z\"/>\n",
              "  </svg>\n",
              "    </button>\n",
              "\n",
              "  <style>\n",
              "    .colab-df-container {\n",
              "      display:flex;\n",
              "      gap: 12px;\n",
              "    }\n",
              "\n",
              "    .colab-df-convert {\n",
              "      background-color: #E8F0FE;\n",
              "      border: none;\n",
              "      border-radius: 50%;\n",
              "      cursor: pointer;\n",
              "      display: none;\n",
              "      fill: #1967D2;\n",
              "      height: 32px;\n",
              "      padding: 0 0 0 0;\n",
              "      width: 32px;\n",
              "    }\n",
              "\n",
              "    .colab-df-convert:hover {\n",
              "      background-color: #E2EBFA;\n",
              "      box-shadow: 0px 1px 2px rgba(60, 64, 67, 0.3), 0px 1px 3px 1px rgba(60, 64, 67, 0.15);\n",
              "      fill: #174EA6;\n",
              "    }\n",
              "\n",
              "    .colab-df-buttons div {\n",
              "      margin-bottom: 4px;\n",
              "    }\n",
              "\n",
              "    [theme=dark] .colab-df-convert {\n",
              "      background-color: #3B4455;\n",
              "      fill: #D2E3FC;\n",
              "    }\n",
              "\n",
              "    [theme=dark] .colab-df-convert:hover {\n",
              "      background-color: #434B5C;\n",
              "      box-shadow: 0px 1px 3px 1px rgba(0, 0, 0, 0.15);\n",
              "      filter: drop-shadow(0px 1px 2px rgba(0, 0, 0, 0.3));\n",
              "      fill: #FFFFFF;\n",
              "    }\n",
              "  </style>\n",
              "\n",
              "    <script>\n",
              "      const buttonEl =\n",
              "        document.querySelector('#df-4c2b9da3-c269-4e8b-8b4a-a1db365c2415 button.colab-df-convert');\n",
              "      buttonEl.style.display =\n",
              "        google.colab.kernel.accessAllowed ? 'block' : 'none';\n",
              "\n",
              "      async function convertToInteractive(key) {\n",
              "        const element = document.querySelector('#df-4c2b9da3-c269-4e8b-8b4a-a1db365c2415');\n",
              "        const dataTable =\n",
              "          await google.colab.kernel.invokeFunction('convertToInteractive',\n",
              "                                                    [key], {});\n",
              "        if (!dataTable) return;\n",
              "\n",
              "        const docLinkHtml = 'Like what you see? Visit the ' +\n",
              "          '<a target=\"_blank\" href=https://colab.research.google.com/notebooks/data_table.ipynb>data table notebook</a>'\n",
              "          + ' to learn more about interactive tables.';\n",
              "        element.innerHTML = '';\n",
              "        dataTable['output_type'] = 'display_data';\n",
              "        await google.colab.output.renderOutput(dataTable, element);\n",
              "        const docLink = document.createElement('div');\n",
              "        docLink.innerHTML = docLinkHtml;\n",
              "        element.appendChild(docLink);\n",
              "      }\n",
              "    </script>\n",
              "  </div>\n",
              "\n",
              "\n",
              "<div id=\"df-d88ad3c4-194c-4453-9a5c-0e61493d6a6f\">\n",
              "  <button class=\"colab-df-quickchart\" onclick=\"quickchart('df-d88ad3c4-194c-4453-9a5c-0e61493d6a6f')\"\n",
              "            title=\"Suggest charts\"\n",
              "            style=\"display:none;\">\n",
              "\n",
              "<svg xmlns=\"http://www.w3.org/2000/svg\" height=\"24px\"viewBox=\"0 0 24 24\"\n",
              "     width=\"24px\">\n",
              "    <g>\n",
              "        <path d=\"M19 3H5c-1.1 0-2 .9-2 2v14c0 1.1.9 2 2 2h14c1.1 0 2-.9 2-2V5c0-1.1-.9-2-2-2zM9 17H7v-7h2v7zm4 0h-2V7h2v10zm4 0h-2v-4h2v4z\"/>\n",
              "    </g>\n",
              "</svg>\n",
              "  </button>\n",
              "\n",
              "<style>\n",
              "  .colab-df-quickchart {\n",
              "      --bg-color: #E8F0FE;\n",
              "      --fill-color: #1967D2;\n",
              "      --hover-bg-color: #E2EBFA;\n",
              "      --hover-fill-color: #174EA6;\n",
              "      --disabled-fill-color: #AAA;\n",
              "      --disabled-bg-color: #DDD;\n",
              "  }\n",
              "\n",
              "  [theme=dark] .colab-df-quickchart {\n",
              "      --bg-color: #3B4455;\n",
              "      --fill-color: #D2E3FC;\n",
              "      --hover-bg-color: #434B5C;\n",
              "      --hover-fill-color: #FFFFFF;\n",
              "      --disabled-bg-color: #3B4455;\n",
              "      --disabled-fill-color: #666;\n",
              "  }\n",
              "\n",
              "  .colab-df-quickchart {\n",
              "    background-color: var(--bg-color);\n",
              "    border: none;\n",
              "    border-radius: 50%;\n",
              "    cursor: pointer;\n",
              "    display: none;\n",
              "    fill: var(--fill-color);\n",
              "    height: 32px;\n",
              "    padding: 0;\n",
              "    width: 32px;\n",
              "  }\n",
              "\n",
              "  .colab-df-quickchart:hover {\n",
              "    background-color: var(--hover-bg-color);\n",
              "    box-shadow: 0 1px 2px rgba(60, 64, 67, 0.3), 0 1px 3px 1px rgba(60, 64, 67, 0.15);\n",
              "    fill: var(--button-hover-fill-color);\n",
              "  }\n",
              "\n",
              "  .colab-df-quickchart-complete:disabled,\n",
              "  .colab-df-quickchart-complete:disabled:hover {\n",
              "    background-color: var(--disabled-bg-color);\n",
              "    fill: var(--disabled-fill-color);\n",
              "    box-shadow: none;\n",
              "  }\n",
              "\n",
              "  .colab-df-spinner {\n",
              "    border: 2px solid var(--fill-color);\n",
              "    border-color: transparent;\n",
              "    border-bottom-color: var(--fill-color);\n",
              "    animation:\n",
              "      spin 1s steps(1) infinite;\n",
              "  }\n",
              "\n",
              "  @keyframes spin {\n",
              "    0% {\n",
              "      border-color: transparent;\n",
              "      border-bottom-color: var(--fill-color);\n",
              "      border-left-color: var(--fill-color);\n",
              "    }\n",
              "    20% {\n",
              "      border-color: transparent;\n",
              "      border-left-color: var(--fill-color);\n",
              "      border-top-color: var(--fill-color);\n",
              "    }\n",
              "    30% {\n",
              "      border-color: transparent;\n",
              "      border-left-color: var(--fill-color);\n",
              "      border-top-color: var(--fill-color);\n",
              "      border-right-color: var(--fill-color);\n",
              "    }\n",
              "    40% {\n",
              "      border-color: transparent;\n",
              "      border-right-color: var(--fill-color);\n",
              "      border-top-color: var(--fill-color);\n",
              "    }\n",
              "    60% {\n",
              "      border-color: transparent;\n",
              "      border-right-color: var(--fill-color);\n",
              "    }\n",
              "    80% {\n",
              "      border-color: transparent;\n",
              "      border-right-color: var(--fill-color);\n",
              "      border-bottom-color: var(--fill-color);\n",
              "    }\n",
              "    90% {\n",
              "      border-color: transparent;\n",
              "      border-bottom-color: var(--fill-color);\n",
              "    }\n",
              "  }\n",
              "</style>\n",
              "\n",
              "  <script>\n",
              "    async function quickchart(key) {\n",
              "      const quickchartButtonEl =\n",
              "        document.querySelector('#' + key + ' button');\n",
              "      quickchartButtonEl.disabled = true;  // To prevent multiple clicks.\n",
              "      quickchartButtonEl.classList.add('colab-df-spinner');\n",
              "      try {\n",
              "        const charts = await google.colab.kernel.invokeFunction(\n",
              "            'suggestCharts', [key], {});\n",
              "      } catch (error) {\n",
              "        console.error('Error during call to suggestCharts:', error);\n",
              "      }\n",
              "      quickchartButtonEl.classList.remove('colab-df-spinner');\n",
              "      quickchartButtonEl.classList.add('colab-df-quickchart-complete');\n",
              "    }\n",
              "    (() => {\n",
              "      let quickchartButtonEl =\n",
              "        document.querySelector('#df-d88ad3c4-194c-4453-9a5c-0e61493d6a6f button');\n",
              "      quickchartButtonEl.style.display =\n",
              "        google.colab.kernel.accessAllowed ? 'block' : 'none';\n",
              "    })();\n",
              "  </script>\n",
              "</div>\n",
              "\n",
              "    </div>\n",
              "  </div>\n"
            ],
            "application/vnd.google.colaboratory.intrinsic+json": {
              "type": "dataframe",
              "variable_name": "tst",
              "summary": "{\n  \"name\": \"tst\",\n  \"rows\": 227,\n  \"fields\": [\n    {\n      \"column\": \"psychological_disorder\",\n      \"properties\": {\n        \"dtype\": \"number\",\n        \"std\": 0,\n        \"min\": 0,\n        \"max\": 1,\n        \"num_unique_values\": 2,\n        \"samples\": [\n          1,\n          0\n        ],\n        \"semantic_type\": \"\",\n        \"description\": \"\"\n      }\n    },\n    {\n      \"column\": \"irritable_mood\",\n      \"properties\": {\n        \"dtype\": \"number\",\n        \"std\": 0,\n        \"min\": 0,\n        \"max\": 1,\n        \"num_unique_values\": 2,\n        \"samples\": [\n          0,\n          1\n        ],\n        \"semantic_type\": \"\",\n        \"description\": \"\"\n      }\n    },\n    {\n      \"column\": \"hallucinations\",\n      \"properties\": {\n        \"dtype\": \"number\",\n        \"std\": 0,\n        \"min\": 0,\n        \"max\": 1,\n        \"num_unique_values\": 2,\n        \"samples\": [\n          1,\n          0\n        ],\n        \"semantic_type\": \"\",\n        \"description\": \"\"\n      }\n    },\n    {\n      \"column\": \"unjustified_anxiety_fear\",\n      \"properties\": {\n        \"dtype\": \"number\",\n        \"std\": 0,\n        \"min\": 0,\n        \"max\": 1,\n        \"num_unique_values\": 2,\n        \"samples\": [\n          0,\n          1\n        ],\n        \"semantic_type\": \"\",\n        \"description\": \"\"\n      }\n    },\n    {\n      \"column\": \"feeling_in_good_health\",\n      \"properties\": {\n        \"dtype\": \"number\",\n        \"std\": 0,\n        \"min\": 0,\n        \"max\": 1,\n        \"num_unique_values\": 2,\n        \"samples\": [\n          1,\n          0\n        ],\n        \"semantic_type\": \"\",\n        \"description\": \"\"\n      }\n    },\n    {\n      \"column\": \"feeling_of_superiority\",\n      \"properties\": {\n        \"dtype\": \"number\",\n        \"std\": 0,\n        \"min\": 0,\n        \"max\": 1,\n        \"num_unique_values\": 2,\n        \"samples\": [\n          1,\n          0\n        ],\n        \"semantic_type\": \"\",\n        \"description\": \"\"\n      }\n    },\n    {\n      \"column\": \"aggressive_behavior\",\n      \"properties\": {\n        \"dtype\": \"number\",\n        \"std\": 0,\n        \"min\": 0,\n        \"max\": 1,\n        \"num_unique_values\": 2,\n        \"samples\": [\n          0,\n          1\n        ],\n        \"semantic_type\": \"\",\n        \"description\": \"\"\n      }\n    },\n    {\n      \"column\": \"suicidal_behavior\",\n      \"properties\": {\n        \"dtype\": \"number\",\n        \"std\": 0,\n        \"min\": 0,\n        \"max\": 1,\n        \"num_unique_values\": 2,\n        \"samples\": [\n          0,\n          1\n        ],\n        \"semantic_type\": \"\",\n        \"description\": \"\"\n      }\n    },\n    {\n      \"column\": \"difficulty_controlling_emotions\",\n      \"properties\": {\n        \"dtype\": \"number\",\n        \"std\": 0,\n        \"min\": 0,\n        \"max\": 1,\n        \"num_unique_values\": 2,\n        \"samples\": [\n          0,\n          1\n        ],\n        \"semantic_type\": \"\",\n        \"description\": \"\"\n      }\n    },\n    {\n      \"column\": \"Weighted_Stress_Index\",\n      \"properties\": {\n        \"dtype\": \"number\",\n        \"std\": 11.730186931702951,\n        \"min\": 0.0,\n        \"max\": 33.79171632,\n        \"num_unique_values\": 185,\n        \"samples\": [\n          11.36,\n          29.11120233\n        ],\n        \"semantic_type\": \"\",\n        \"description\": \"\"\n      }\n    },\n    {\n      \"column\": \"Drug_or_not\",\n      \"properties\": {\n        \"dtype\": \"number\",\n        \"std\": 0,\n        \"min\": 0,\n        \"max\": 1,\n        \"num_unique_values\": 2,\n        \"samples\": [\n          0,\n          1\n        ],\n        \"semantic_type\": \"\",\n        \"description\": \"\"\n      }\n    }\n  ]\n}"
            }
          },
          "metadata": {},
          "execution_count": 20
        }
      ]
    },
    {
      "cell_type": "code",
      "source": [
        "# heatmap\n",
        "\n",
        "# libraries needed\n",
        "import seaborn as sns\n",
        "import matplotlib.pyplot as plt\n",
        "\n",
        "# correlation\n",
        "corr = tst.corr()\n",
        "\n",
        "# plotting\n",
        "plt.figure(figsize = (20, 15))\n",
        "sns.heatmap(corr, annot = True, linewidth = 2)\n",
        "  # linewidth just breaks apart the squares for clearer vision\n",
        "plt.show()"
      ],
      "metadata": {
        "id": "DlYVWz1lcIyb",
        "colab": {
          "base_uri": "https://localhost:8080/",
          "height": 1000
        },
        "outputId": "b12d13ac-c8cc-4b75-9bee-7471c95b7075"
      },
      "execution_count": null,
      "outputs": [
        {
          "output_type": "display_data",
          "data": {
            "text/plain": [
              "<Figure size 2000x1500 with 2 Axes>"
            ],
            "image/png": "[encoded data removed]"
          },
          "metadata": {}
        }
      ]
    },
    {
      "cell_type": "code",
      "source": [
        "# INSIGHTS.\n",
        "# there's many so i took a 0.5 > as a threshold\n",
        "# tho everything else is still notable.\n",
        "\n",
        "'''\n",
        "\n",
        "irritable_mood\n",
        "  difficulty_controlling_emotions = 0.5\n",
        "  Weighted_Stress_Index = 0.64\n",
        "  Drug_or_not = 0.7\n",
        "\n",
        "unjustified_anxiety_fear\n",
        "  Weighted_Stress_Index = 0.52\n",
        "  Drug_or_not = 0.53\n",
        "\n",
        "feeling_in_good_health\n",
        "  feeling_of_superiority = 0.5\n",
        "\n",
        "aggressive_behavior\n",
        "  difficulty_controlling_emotions = 0.53\n",
        "  Weighted_Stress_Index = 0.64\n",
        "\n",
        "suicidal_behavior\n",
        "  Weighted_Stress_Index = 0.53\n",
        "\n",
        "difficulty_controlling_emotions\n",
        "  Weighted_Stress_Index = 0.72\n",
        "  Drug_or_not = 0.57\n",
        "\n",
        "Weighted_Stress_Index\n",
        "  Drug_or_not = 0.8 (HUGE)\n",
        "\n",
        "'''"
      ],
      "metadata": {
        "id": "AV47Pi_kc4h9"
      },
      "execution_count": null,
      "outputs": []
    },
    {
      "cell_type": "code",
      "source": [
        "# i'll scrap the following 2 columns:\n",
        "# feeling_in_good_health & feeling_of_superiority\n",
        "\n",
        "'''\n",
        "initially i added them bc it could be leading to mania\n",
        "  > aka problems in mental health &/or emotional instability.\n",
        "but the heatmap relations don't really support my thinking.\n",
        "  > and i'm taking the correlation matrix as a baseline.\n",
        "\n",
        "they do have relations, BUT compared to other columns,\n",
        "  > it's very negligible. ex: 0.11 compared to 0.25 and above.\n",
        "'''"
      ],
      "metadata": {
        "id": "Q9TWED2H_Dkg"
      },
      "execution_count": null,
      "outputs": []
    },
    {
      "cell_type": "code",
      "source": [
        "# Dropping the 2 columns\n",
        "tst.drop(columns = ['feeling_in_good_health', 'feeling_of_superiority'], inplace = True)"
      ],
      "metadata": {
        "id": "U1Mo-fzJxi3a"
      },
      "execution_count": null,
      "outputs": []
    },
    {
      "cell_type": "code",
      "source": [
        "# Redoing heatmap for clearer view\n",
        "corr = tst.corr()\n",
        "\n",
        "# plotting\n",
        "plt.figure(figsize = (20, 15))\n",
        "sns.heatmap(corr, annot = True, linewidth = 2)\n",
        "  # linewidth just breaks apart the squares for clearer vision\n",
        "plt.show()"
      ],
      "metadata": {
        "id": "u_gkSCtLxn13"
      },
      "execution_count": null,
      "outputs": []
    },
    {
      "cell_type": "code",
      "source": [
        "df.head()"
      ],
      "metadata": {
        "id": "ETS_VDaH_jEj"
      },
      "execution_count": null,
      "outputs": []
    },
    {
      "cell_type": "code",
      "source": [
        "# CHOSEN PROJECT & COLUMNS\n",
        "\n",
        "'''\n",
        "Mental Health and Emotional Stability.\n",
        "\n",
        "Needed Columns:\n",
        "- psychological_disorder\n",
        "- irritable_mood\n",
        "- hallucinations\n",
        "- unjustified_anxiety_fear\n",
        "- aggressive_behavior\n",
        "- suicidal_behavior\n",
        "- difficulty_controlling_emotions\n",
        "- Weighted_Stress_Index (numerical)\n",
        "\n",
        "'''"
      ],
      "metadata": {
        "id": "yjloZrI6AeAo"
      },
      "execution_count": null,
      "outputs": []
    },
    {
      "cell_type": "code",
      "source": [
        "# STATISTICAL MEASURES: numerical."
      ],
      "metadata": {
        "id": "6M6u0IXGGX2T"
      },
      "execution_count": null,
      "outputs": []
    },
    {
      "cell_type": "code",
      "source": [
        "df['Weighted_Stress_Index'].describe()"
      ],
      "metadata": {
        "id": "mzzDDpXsG11s"
      },
      "execution_count": null,
      "outputs": []
    },
    {
      "cell_type": "code",
      "source": [
        "# Basic statistical measures.\n",
        "\n",
        "stress_mean = round(df['Weighted_Stress_Index'].mean(), 3)\n",
        "stress_median = df['Weighted_Stress_Index'].median()\n",
        "stress_var = round(df['Weighted_Stress_Index'].var(), 3)\n",
        "stress_std = round(df['Weighted_Stress_Index'].std(), 3)\n",
        "stress_cv = round((stress_std / stress_mean) * 100, 3)\n",
        "stress_max = df['Weighted_Stress_Index'].max()\n",
        "stress_min = df['Weighted_Stress_Index'].min()\n",
        "stress_range = stress_max - stress_min\n",
        "stress_mode = df['Weighted_Stress_Index'].mode()[0]\n",
        "stress_mode_occurrence = df['Weighted_Stress_Index'].value_counts()[stress_mode]\n",
        "stress_count = df['Weighted_Stress_Index'].value_counts().unique().sum()\n",
        "stress_mode_ratio = (stress_mode_occurrence / stress_count) * 100"
      ],
      "metadata": {
        "id": "xSxG9jjQGay_"
      },
      "execution_count": null,
      "outputs": []
    },
    {
      "cell_type": "code",
      "source": [
        "print(f'Weighted Stress Index ~ \\n\\n\\\n",
        "BASICS\\n-----\\n\\\n",
        "mean: {stress_mean}\\n\\\n",
        "median: {stress_median}\\n\\\n",
        "variance: {stress_var}\\n\\\n",
        "standard deviation: {stress_std}\\n\\\n",
        "coefficient of variation: {stress_cv}\\n\\n\\\n",
        "RANGE\\n-----\\n\\\n",
        "max: {stress_max}\\n\\\n",
        "min: {stress_min}\\n\\\n",
        "range: {stress_range}\\n\\n\\\n",
        "MODE\\n-----\\n\\\n",
        "mode: {stress_mode}\\n\\\n",
        "mode ocurrences: {stress_mode_occurrence}\\n\\\n",
        "total values: {stress_count}\\n\\\n",
        "mode occurrence to total count: {round(stress_mode_ratio, 2)}%')"
      ],
      "metadata": {
        "id": "Eap6xQVPXG7A"
      },
      "execution_count": null,
      "outputs": []
    },
    {
      "cell_type": "code",
      "source": [
        "# gotta write some insights here. (later)"
      ],
      "metadata": {
        "id": "NoJgcOokXH-i"
      },
      "execution_count": null,
      "outputs": []
    },
    {
      "cell_type": "code",
      "source": [
        "# Insights\n",
        "\n",
        "'''\n",
        "The value of coef of var ~70% indicates the ratio of std to mean.\n",
        "  > this means that the std is lower than the mean.\n",
        "\n",
        "The value is relatively low, meaning the values of std are not as dispersed around the mean.\n",
        "  > this shows that a good amount of participants' [Weighted Stress Index] is around the average (mean) & not too far off.\n",
        "'''"
      ],
      "metadata": {
        "id": "M5iARrSXIJWp"
      },
      "execution_count": null,
      "outputs": []
    },
    {
      "cell_type": "code",
      "source": [
        "# MEASURES OF POSITION."
      ],
      "metadata": {
        "id": "zvyLNh02cH4T"
      },
      "execution_count": null,
      "outputs": []
    },
    {
      "cell_type": "code",
      "source": [
        "# Quartiles\n",
        "stress_q1 = df['Weighted_Stress_Index'].quantile(0.25)\n",
        "stress_q2 = df['Weighted_Stress_Index'].quantile(0.5)\n",
        "stress_q3 = df['Weighted_Stress_Index'].quantile(0.75)\n",
        "stress_iqr = stress_q3 - stress_q1\n",
        "\n",
        "print(f'Weighted Stress Index (Quantiles) ~\\n\\n\\\n",
        "Q1: {round(stress_q1, 3)}\\n\\\n",
        "Q2: {round(stress_q2, 3)}\\n\\\n",
        "Q3: {round(stress_q3, 3)}\\n\\\n",
        "IQR: {round(stress_iqr, 3)}')"
      ],
      "metadata": {
        "id": "SEECXQXuHeUD"
      },
      "execution_count": null,
      "outputs": []
    },
    {
      "cell_type": "code",
      "source": [
        "# prompt: plot q1 q2 and q3 like the bar chart below for deciles\n",
        "\n",
        "import matplotlib.pyplot as plt\n",
        "# plotting\n",
        "plt.figure(figsize = (20, 15))\n",
        "plt.bar(x = ['Q1', 'Q2', 'Q3'], height = [stress_q1, stress_q2, stress_q3])\n",
        "plt.title('Weighted Stress Index (Quartiles)')\n",
        "plt.show()"
      ],
      "metadata": {
        "id": "XKSYXNnbjzas"
      },
      "execution_count": null,
      "outputs": []
    },
    {
      "cell_type": "code",
      "source": [
        "# Plotting percentiles\n",
        "plt.figure(figsize = (10, 6))\n",
        "plt.bar(x = ['Q1', 'Q2', 'Q3'], height = [stress_q1, stress_q2, stress_q3],\n",
        "        color = 'cornflowerblue', edgecolor = 'black')\n",
        "plt.title('Percentiles of [Weighted Stress Index]')\n",
        "plt.show()"
      ],
      "metadata": {
        "id": "XmytVN29j0OS"
      },
      "execution_count": null,
      "outputs": []
    },
    {
      "cell_type": "code",
      "source": [
        "import numpy as np\n",
        "\n",
        "# Deciles\n",
        "stress_deciles = np.percentile(df['Weighted_Stress_Index'], np.arange(10, 100, 10))\n",
        "\n",
        "sum = 10\n",
        "for d in stress_deciles:\n",
        "  print(f'{sum}th Decile: {round(d, 3)}')\n",
        "  sum+=10"
      ],
      "metadata": {
        "id": "eouVHQ1JcMM5"
      },
      "execution_count": null,
      "outputs": []
    },
    {
      "cell_type": "code",
      "source": [
        "# Reference for matplotlib colors: https://www.tutorialexample.com/wp-content/uploads/2021/02/a-full-list-of-matplotlib-color.png"
      ],
      "metadata": {
        "id": "otZHHvn0RSfp"
      },
      "execution_count": null,
      "outputs": []
    },
    {
      "cell_type": "code",
      "source": [
        "xaxis = np.arange(10, 100, 10)\n",
        "\n",
        "# Plotting deciles\n",
        "plt.figure(figsize = (10, 6))\n",
        "plt.bar(xaxis, stress_deciles, width = 10, color = 'mediumpurple', edgecolor = 'black')\n",
        "plt.xlabel('Percentile')\n",
        "plt.xticks(xaxis)\n",
        "plt.ylabel('Value')\n",
        "plt.title('Deciles of [Weighted Stress Index]')\n",
        "plt.show()"
      ],
      "metadata": {
        "id": "A2-TUMC3ccTU"
      },
      "execution_count": null,
      "outputs": []
    },
    {
      "cell_type": "code",
      "source": [
        "# Outlier using quartiles\n",
        "\n",
        "# Lower & higher bounds\n",
        "qlo_stress = stress_q1 - 1.5 * stress_iqr\n",
        "qhi_stress = stress_q3 + 1.5 * stress_iqr\n",
        "\n",
        "# Outlier detection\n",
        "qlo_stress_outlier = df[(df['Weighted_Stress_Index'] < qlo_stress)]\n",
        "qhi_stress_outlier = df[(df['Weighted_Stress_Index'] > qhi_stress)]\n",
        "\n",
        "print(f'Lower Bound Outlier(s): \\n\\n{qlo_stress_outlier}\\n\\n\\\n",
        "--------------\\n\\n\\\n",
        "Higher Bound Outlier(s): \\n\\n{qhi_stress_outlier}')"
      ],
      "metadata": {
        "id": "TGqCxpSNiXSK"
      },
      "execution_count": null,
      "outputs": []
    },
    {
      "cell_type": "code",
      "source": [
        "# Insights > surprisingly no outliers."
      ],
      "metadata": {
        "id": "DgQg5dRSjUn1"
      },
      "execution_count": null,
      "outputs": []
    },
    {
      "cell_type": "code",
      "source": [
        "# Box Plot\n",
        "\n",
        "import seaborn as sns\n",
        "sns.boxplot(x = df['Weighted_Stress_Index'], color = 'mediumpurple')\n",
        "plt.xlabel('Stress Index')\n",
        "plt.ylabel('Range')\n",
        "plt.title('Box Plot of Weighted Stress Index')\n",
        "plt.show()"
      ],
      "metadata": {
        "id": "BBCOLvzojX_K"
      },
      "execution_count": null,
      "outputs": []
    },
    {
      "cell_type": "code",
      "source": [
        "# Insights\n",
        "' surely, we can see theres TRULY NO outliers. '"
      ],
      "metadata": {
        "id": "Fu7Er9ZPjzYN"
      },
      "execution_count": null,
      "outputs": []
    },
    {
      "cell_type": "code",
      "source": [
        "# Further Stats - Z Score\n",
        "from scipy.stats import zscore, stats\n",
        "\n",
        "stress_zscore = stats.zscore(df['Weighted_Stress_Index'])\n",
        "stress_zmax = stress_zscore.max()\n",
        "stress_zmin = stress_zscore.min()\n",
        "stress_zrange = (stress_zmax - stress_zmin)\n",
        "\n",
        "print(f'Z-Score Info for [Weighted Stress Index]\\n\\n\\\n",
        "{stress_zscore}\\n\\n\\\n",
        "Z-Score Max: {round(stress_zmax, 3)}\\n\\\n",
        "Z-Score Min: {round(stress_zmin, 3)}\\n\\\n",
        "Z-Score Range: {round(stress_zrange, 3)}\\n')"
      ],
      "metadata": {
        "id": "XCEget74HTRe"
      },
      "execution_count": null,
      "outputs": []
    },
    {
      "cell_type": "code",
      "source": [
        "# Outliers: USING Z-SCORE\n",
        "df['Stress_Zscores'] = stress_zscore\n",
        "zlo_stress = df[(stress_zscore < -3 )]\n",
        "zhi_stress = df[(stress_zscore > 3 )]\n",
        "\n",
        "print(f'Lower Bound Outlier(s): \\n\\n{zlo_stress}\\n\\n\\\n",
        "--------------\\n\\n\\\n",
        "Higher Bound Outlier(s): \\n\\n{zhi_stress}')\n",
        "\n",
        "# again, NO outliers."
      ],
      "metadata": {
        "id": "v6GKMilWIRv-"
      },
      "execution_count": null,
      "outputs": []
    },
    {
      "cell_type": "code",
      "source": [
        "# DENSITY for outlier detection.\n",
        "plt.figure(figsize = [10, 8])\n",
        "sns.kdeplot(df['Weighted_Stress_Index'], shade = True, color = 'mediumpurple')\n",
        "plt.title('Density Plot for Stress')\n",
        "plt.show()"
      ],
      "metadata": {
        "id": "0Dcuvnyaet5D"
      },
      "execution_count": null,
      "outputs": []
    },
    {
      "cell_type": "code",
      "source": [
        "# DENSITY for outlier detection.\n",
        "plt.figure(figsize = [10, 8])\n",
        "sns.distplot(df['Weighted_Stress_Index'], color = 'mediumpurple')\n",
        "plt.title('Density Plot for Stress')\n",
        "plt.show()\n",
        "\n",
        "# Reference: https://towardsdatascience.com/histograms-and-density-plots-in-python-f6bda88f5ac0"
      ],
      "metadata": {
        "id": "z7sMijO7mwla"
      },
      "execution_count": null,
      "outputs": []
    },
    {
      "cell_type": "code",
      "source": [
        "pd.set_option('display.max_rows', None)"
      ],
      "metadata": {
        "id": "D_4-el0Ghd1-"
      },
      "execution_count": null,
      "outputs": []
    },
    {
      "cell_type": "code",
      "source": [
        "df['Weighted_Stress_Index'].value_counts().sort_values()"
      ],
      "metadata": {
        "id": "f3lFo2zwhm6H"
      },
      "execution_count": null,
      "outputs": []
    },
    {
      "cell_type": "code",
      "source": [
        "df.describe()"
      ],
      "metadata": {
        "id": "1PM4BomffQyz"
      },
      "execution_count": null,
      "outputs": []
    },
    {
      "cell_type": "code",
      "source": [
        "# why's it starting at -10.. ??"
      ],
      "metadata": {
        "id": "S5lYVJ12hy7K"
      },
      "execution_count": null,
      "outputs": []
    },
    {
      "cell_type": "code",
      "source": [
        "import matplotlib.pyplot as plt\n",
        "\n",
        "# Histogram\n",
        "plt.figure(figsize = (10, 6))\n",
        "plt.hist(df['Age'], bins = 8, color = 'mediumpurple', edgecolor = 'black') # out of experimenting"
      ],
      "metadata": {
        "id": "0HNWTEyRkFbD",
        "colab": {
          "base_uri": "https://localhost:8080/",
          "height": 591
        },
        "outputId": "2b397b59-b18a-46ed-cc51-b5c270261295"
      },
      "execution_count": null,
      "outputs": [
        {
          "output_type": "execute_result",
          "data": {
            "text/plain": [
              "(array([53., 51., 24., 19., 22., 22., 14., 22.]),\n",
              " array([14.   , 17.125, 20.25 , 23.375, 26.5  , 29.625, 32.75 , 35.875,\n",
              "        39.   ]),\n",
              " <BarContainer object of 8 artists>)"
            ]
          },
          "metadata": {},
          "execution_count": 12
        },
        {
          "output_type": "display_data",
          "data": {
            "text/plain": [
              "<Figure size 1000x600 with 1 Axes>"
            ],
            "image/png": "[encoded data removed]"
          },
          "metadata": {}
        }
      ]
    },
    {
      "cell_type": "code",
      "source": [
        "plt.xlabel('Weighted Stress Index')\n",
        "plt.ylabel('Frequency')\n",
        "plt.title('Histogram of Weighted Stress Index')\n",
        "plt.tight_layout()\n",
        "plt.show()"
      ],
      "metadata": {
        "id": "ziNWSPfFAqtz"
      },
      "execution_count": null,
      "outputs": []
    },
    {
      "cell_type": "code",
      "source": [
        "df.info()"
      ],
      "metadata": {
        "colab": {
          "base_uri": "https://localhost:8080/"
        },
        "id": "lhHDGJMlA7lD",
        "outputId": "258542c3-b223-4103-a893-da43316747ed"
      },
      "execution_count": null,
      "outputs": [
        {
          "output_type": "stream",
          "name": "stdout",
          "text": [
            "<class 'pandas.core.frame.DataFrame'>\n",
            "RangeIndex: 227 entries, 0 to 226\n",
            "Data columns (total 60 columns):\n",
            " #   Column                                Non-Null Count  Dtype  \n",
            "---  ------                                --------------  -----  \n",
            " 0   Case_ID                               227 non-null    object \n",
            " 1   Age                                   227 non-null    int64  \n",
            " 2   Marital_Status                        227 non-null    object \n",
            " 3   Employment_Status                     227 non-null    object \n",
            " 4   Income Level                          227 non-null    object \n",
            " 5   Health Index                          227 non-null    int64  \n",
            " 6   Smoking                               227 non-null    object \n",
            " 7   psychological_disorder                227 non-null    object \n",
            " 8   taken_drugs                           227 non-null    object \n",
            " 9   dropped_motivation_to_working         227 non-null    object \n",
            " 10  absence_from_work                     227 non-null    object \n",
            " 11  find_exotic_tools                     227 non-null    object \n",
            " 12  sleeping_habits                       227 non-null    object \n",
            " 13  headache                              227 non-null    object \n",
            " 14  decreased_social_interaction          227 non-null    object \n",
            " 15  increased_personal_expenses           227 non-null    object \n",
            " 16  selling_house_content                 227 non-null    object \n",
            " 17  commit_stole                          227 non-null    object \n",
            " 18  lying                                 227 non-null    object \n",
            " 19  difficulty_speaking_expressing        227 non-null    object \n",
            " 20  secretive_suspicious_behavior         227 non-null    object \n",
            " 21  increased_respiratory_rate            227 non-null    object \n",
            " 22  fabricating_family_problems           227 non-null    object \n",
            " 23  car_crash                             227 non-null    object \n",
            " 24  irritable_mood                        227 non-null    object \n",
            " 25  hallucinations                        227 non-null    object \n",
            " 26  heart_palpitations                    227 non-null    object \n",
            " 27  unjustified_anxiety_fear              227 non-null    object \n",
            " 28  Nausea                                227 non-null    object \n",
            " 29  Hyperactivity                         227 non-null    object \n",
            " 30  feeling_in_good_health                227 non-null    object \n",
            " 31  feeling_of_superiority                227 non-null    object \n",
            " 32  suspension_in_issues                  227 non-null    object \n",
            " 33  high_blood_pressure                   227 non-null    object \n",
            " 34  Mydriasis                             227 non-null    object \n",
            " 35  diaphoresis                           227 non-null    object \n",
            " 36  weight_changed                        227 non-null    object \n",
            " 37  memory_impairment                     227 non-null    object \n",
            " 38  aggressive_behavior                   227 non-null    object \n",
            " 39  high_body_temperature                 227 non-null    object \n",
            " 40  hand_shakes                           227 non-null    object \n",
            " 41  skin_redness                          227 non-null    object \n",
            " 42  dermatological_problems               227 non-null    object \n",
            " 43  difficulty_completing_tasks           227 non-null    object \n",
            " 44  repeating_actions                     227 non-null    object \n",
            " 45  bad_breath_cracked_lips               227 non-null    object \n",
            " 46  cold_hands                            227 non-null    object \n",
            " 47  suicidal_behavior                     227 non-null    object \n",
            " 48  distracted_and_absent_minded          227 non-null    object \n",
            " 49  difficulty_to_relaxing                227 non-null    object \n",
            " 50  inablity_to_estimate                  227 non-null    object \n",
            " 51  dryness_or_Redness                    227 non-null    object \n",
            " 52  Fatigue_pallor                        227 non-null    object \n",
            " 53  slow_reactions                        227 non-null    object \n",
            " 54  difficulty_controlling_emotions       227 non-null    object \n",
            " 55  Deterioration_of_physical_appearance  227 non-null    object \n",
            " 56  Weighted_Stress_Index                 227 non-null    float64\n",
            " 57  Risk_of_Legal_Issues                  227 non-null    int64  \n",
            " 58  Risk_Factor_Score                     227 non-null    float64\n",
            " 59  Drug_or_not                           227 non-null    object \n",
            "dtypes: float64(2), int64(3), object(55)\n",
            "memory usage: 106.5+ KB\n"
          ]
        }
      ]
    },
    {
      "cell_type": "code",
      "source": [
        "df[['Smoking', 'Age', 'Marital_Status']]"
      ],
      "metadata": {
        "colab": {
          "base_uri": "https://localhost:8080/",
          "height": 423
        },
        "id": "_IiC0ZSmA4zz",
        "outputId": "4c7f263c-9a65-45c0-b49a-05ad5a1b1548"
      },
      "execution_count": null,
      "outputs": [
        {
          "output_type": "execute_result",
          "data": {
            "text/plain": [
              "    Smoking  Age Marital_Status\n",
              "0       Yes   20         Single\n",
              "1       Yes   19        Married\n",
              "2       Yes   27         Single\n",
              "3        No   21         Single\n",
              "4       Yes   18         Single\n",
              "..      ...  ...            ...\n",
              "222      No   32        Married\n",
              "223     Yes   16         Single\n",
              "224     Yes   18         Single\n",
              "225     Yes   20         Single\n",
              "226     Yes   18        Married\n",
              "\n",
              "[227 rows x 3 columns]"
            ],
            "text/html": [
              "\n",
              "  <div id=\"df-bd8057b2-1e0a-48b6-9c53-36a70a7761ac\" class=\"colab-df-container\">\n",
              "    <div>\n",
              "<style scoped>\n",
              "    .dataframe tbody tr th:only-of-type {\n",
              "        vertical-align: middle;\n",
              "    }\n",
              "\n",
              "    .dataframe tbody tr th {\n",
              "        vertical-align: top;\n",
              "    }\n",
              "\n",
              "    .dataframe thead th {\n",
              "        text-align: right;\n",
              "    }\n",
              "</style>\n",
              "<table border=\"1\" class=\"dataframe\">\n",
              "  <thead>\n",
              "    <tr style=\"text-align: right;\">\n",
              "      <th></th>\n",
              "      <th>Smoking</th>\n",
              "      <th>Age</th>\n",
              "      <th>Marital_Status</th>\n",
              "    </tr>\n",
              "  </thead>\n",
              "  <tbody>\n",
              "    <tr>\n",
              "      <th>0</th>\n",
              "      <td>Yes</td>\n",
              "      <td>20</td>\n",
              "      <td>Single</td>\n",
              "    </tr>\n",
              "    <tr>\n",
              "      <th>1</th>\n",
              "      <td>Yes</td>\n",
              "      <td>19</td>\n",
              "      <td>Married</td>\n",
              "    </tr>\n",
              "    <tr>\n",
              "      <th>2</th>\n",
              "      <td>Yes</td>\n",
              "      <td>27</td>\n",
              "      <td>Single</td>\n",
              "    </tr>\n",
              "    <tr>\n",
              "      <th>3</th>\n",
              "      <td>No</td>\n",
              "      <td>21</td>\n",
              "      <td>Single</td>\n",
              "    </tr>\n",
              "    <tr>\n",
              "      <th>4</th>\n",
              "      <td>Yes</td>\n",
              "      <td>18</td>\n",
              "      <td>Single</td>\n",
              "    </tr>\n",
              "    <tr>\n",
              "      <th>...</th>\n",
              "      <td>...</td>\n",
              "      <td>...</td>\n",
              "      <td>...</td>\n",
              "    </tr>\n",
              "    <tr>\n",
              "      <th>222</th>\n",
              "      <td>No</td>\n",
              "      <td>32</td>\n",
              "      <td>Married</td>\n",
              "    </tr>\n",
              "    <tr>\n",
              "      <th>223</th>\n",
              "      <td>Yes</td>\n",
              "      <td>16</td>\n",
              "      <td>Single</td>\n",
              "    </tr>\n",
              "    <tr>\n",
              "      <th>224</th>\n",
              "      <td>Yes</td>\n",
              "      <td>18</td>\n",
              "      <td>Single</td>\n",
              "    </tr>\n",
              "    <tr>\n",
              "      <th>225</th>\n",
              "      <td>Yes</td>\n",
              "      <td>20</td>\n",
              "      <td>Single</td>\n",
              "    </tr>\n",
              "    <tr>\n",
              "      <th>226</th>\n",
              "      <td>Yes</td>\n",
              "      <td>18</td>\n",
              "      <td>Married</td>\n",
              "    </tr>\n",
              "  </tbody>\n",
              "</table>\n",
              "<p>227 rows × 3 columns</p>\n",
              "</div>\n",
              "    <div class=\"colab-df-buttons\">\n",
              "\n",
              "  <div class=\"colab-df-container\">\n",
              "    <button class=\"colab-df-convert\" onclick=\"convertToInteractive('df-bd8057b2-1e0a-48b6-9c53-36a70a7761ac')\"\n",
              "            title=\"Convert this dataframe to an interactive table.\"\n",
              "            style=\"display:none;\">\n",
              "\n",
              "  <svg xmlns=\"http://www.w3.org/2000/svg\" height=\"24px\" viewBox=\"0 -960 960 960\">\n",
              "    <path d=\"M120-120v-720h720v720H120Zm60-500h600v-160H180v160Zm220 220h160v-160H400v160Zm0 220h160v-160H400v160ZM180-400h160v-160H180v160Zm440 0h160v-160H620v160ZM180-180h160v-160H180v160Zm440 0h160v-160H620v160Z\"/>\n",
              "  </svg>\n",
              "    </button>\n",
              "\n",
              "  <style>\n",
              "    .colab-df-container {\n",
              "      display:flex;\n",
              "      gap: 12px;\n",
              "    }\n",
              "\n",
              "    .colab-df-convert {\n",
              "      background-color: #E8F0FE;\n",
              "      border: none;\n",
              "      border-radius: 50%;\n",
              "      cursor: pointer;\n",
              "      display: none;\n",
              "      fill: #1967D2;\n",
              "      height: 32px;\n",
              "      padding: 0 0 0 0;\n",
              "      width: 32px;\n",
              "    }\n",
              "\n",
              "    .colab-df-convert:hover {\n",
              "      background-color: #E2EBFA;\n",
              "      box-shadow: 0px 1px 2px rgba(60, 64, 67, 0.3), 0px 1px 3px 1px rgba(60, 64, 67, 0.15);\n",
              "      fill: #174EA6;\n",
              "    }\n",
              "\n",
              "    .colab-df-buttons div {\n",
              "      margin-bottom: 4px;\n",
              "    }\n",
              "\n",
              "    [theme=dark] .colab-df-convert {\n",
              "      background-color: #3B4455;\n",
              "      fill: #D2E3FC;\n",
              "    }\n",
              "\n",
              "    [theme=dark] .colab-df-convert:hover {\n",
              "      background-color: #434B5C;\n",
              "      box-shadow: 0px 1px 3px 1px rgba(0, 0, 0, 0.15);\n",
              "      filter: drop-shadow(0px 1px 2px rgba(0, 0, 0, 0.3));\n",
              "      fill: #FFFFFF;\n",
              "    }\n",
              "  </style>\n",
              "\n",
              "    <script>\n",
              "      const buttonEl =\n",
              "        document.querySelector('#df-bd8057b2-1e0a-48b6-9c53-36a70a7761ac button.colab-df-convert');\n",
              "      buttonEl.style.display =\n",
              "        google.colab.kernel.accessAllowed ? 'block' : 'none';\n",
              "\n",
              "      async function convertToInteractive(key) {\n",
              "        const element = document.querySelector('#df-bd8057b2-1e0a-48b6-9c53-36a70a7761ac');\n",
              "        const dataTable =\n",
              "          await google.colab.kernel.invokeFunction('convertToInteractive',\n",
              "                                                    [key], {});\n",
              "        if (!dataTable) return;\n",
              "\n",
              "        const docLinkHtml = 'Like what you see? Visit the ' +\n",
              "          '<a target=\"_blank\" href=https://colab.research.google.com/notebooks/data_table.ipynb>data table notebook</a>'\n",
              "          + ' to learn more about interactive tables.';\n",
              "        element.innerHTML = '';\n",
              "        dataTable['output_type'] = 'display_data';\n",
              "        await google.colab.output.renderOutput(dataTable, element);\n",
              "        const docLink = document.createElement('div');\n",
              "        docLink.innerHTML = docLinkHtml;\n",
              "        element.appendChild(docLink);\n",
              "      }\n",
              "    </script>\n",
              "  </div>\n",
              "\n",
              "\n",
              "<div id=\"df-ab0458b2-1652-4c0f-bee2-c174fac2fd57\">\n",
              "  <button class=\"colab-df-quickchart\" onclick=\"quickchart('df-ab0458b2-1652-4c0f-bee2-c174fac2fd57')\"\n",
              "            title=\"Suggest charts\"\n",
              "            style=\"display:none;\">\n",
              "\n",
              "<svg xmlns=\"http://www.w3.org/2000/svg\" height=\"24px\"viewBox=\"0 0 24 24\"\n",
              "     width=\"24px\">\n",
              "    <g>\n",
              "        <path d=\"M19 3H5c-1.1 0-2 .9-2 2v14c0 1.1.9 2 2 2h14c1.1 0 2-.9 2-2V5c0-1.1-.9-2-2-2zM9 17H7v-7h2v7zm4 0h-2V7h2v10zm4 0h-2v-4h2v4z\"/>\n",
              "    </g>\n",
              "</svg>\n",
              "  </button>\n",
              "\n",
              "<style>\n",
              "  .colab-df-quickchart {\n",
              "      --bg-color: #E8F0FE;\n",
              "      --fill-color: #1967D2;\n",
              "      --hover-bg-color: #E2EBFA;\n",
              "      --hover-fill-color: #174EA6;\n",
              "      --disabled-fill-color: #AAA;\n",
              "      --disabled-bg-color: #DDD;\n",
              "  }\n",
              "\n",
              "  [theme=dark] .colab-df-quickchart {\n",
              "      --bg-color: #3B4455;\n",
              "      --fill-color: #D2E3FC;\n",
              "      --hover-bg-color: #434B5C;\n",
              "      --hover-fill-color: #FFFFFF;\n",
              "      --disabled-bg-color: #3B4455;\n",
              "      --disabled-fill-color: #666;\n",
              "  }\n",
              "\n",
              "  .colab-df-quickchart {\n",
              "    background-color: var(--bg-color);\n",
              "    border: none;\n",
              "    border-radius: 50%;\n",
              "    cursor: pointer;\n",
              "    display: none;\n",
              "    fill: var(--fill-color);\n",
              "    height: 32px;\n",
              "    padding: 0;\n",
              "    width: 32px;\n",
              "  }\n",
              "\n",
              "  .colab-df-quickchart:hover {\n",
              "    background-color: var(--hover-bg-color);\n",
              "    box-shadow: 0 1px 2px rgba(60, 64, 67, 0.3), 0 1px 3px 1px rgba(60, 64, 67, 0.15);\n",
              "    fill: var(--button-hover-fill-color);\n",
              "  }\n",
              "\n",
              "  .colab-df-quickchart-complete:disabled,\n",
              "  .colab-df-quickchart-complete:disabled:hover {\n",
              "    background-color: var(--disabled-bg-color);\n",
              "    fill: var(--disabled-fill-color);\n",
              "    box-shadow: none;\n",
              "  }\n",
              "\n",
              "  .colab-df-spinner {\n",
              "    border: 2px solid var(--fill-color);\n",
              "    border-color: transparent;\n",
              "    border-bottom-color: var(--fill-color);\n",
              "    animation:\n",
              "      spin 1s steps(1) infinite;\n",
              "  }\n",
              "\n",
              "  @keyframes spin {\n",
              "    0% {\n",
              "      border-color: transparent;\n",
              "      border-bottom-color: var(--fill-color);\n",
              "      border-left-color: var(--fill-color);\n",
              "    }\n",
              "    20% {\n",
              "      border-color: transparent;\n",
              "      border-left-color: var(--fill-color);\n",
              "      border-top-color: var(--fill-color);\n",
              "    }\n",
              "    30% {\n",
              "      border-color: transparent;\n",
              "      border-left-color: var(--fill-color);\n",
              "      border-top-color: var(--fill-color);\n",
              "      border-right-color: var(--fill-color);\n",
              "    }\n",
              "    40% {\n",
              "      border-color: transparent;\n",
              "      border-right-color: var(--fill-color);\n",
              "      border-top-color: var(--fill-color);\n",
              "    }\n",
              "    60% {\n",
              "      border-color: transparent;\n",
              "      border-right-color: var(--fill-color);\n",
              "    }\n",
              "    80% {\n",
              "      border-color: transparent;\n",
              "      border-right-color: var(--fill-color);\n",
              "      border-bottom-color: var(--fill-color);\n",
              "    }\n",
              "    90% {\n",
              "      border-color: transparent;\n",
              "      border-bottom-color: var(--fill-color);\n",
              "    }\n",
              "  }\n",
              "</style>\n",
              "\n",
              "  <script>\n",
              "    async function quickchart(key) {\n",
              "      const quickchartButtonEl =\n",
              "        document.querySelector('#' + key + ' button');\n",
              "      quickchartButtonEl.disabled = true;  // To prevent multiple clicks.\n",
              "      quickchartButtonEl.classList.add('colab-df-spinner');\n",
              "      try {\n",
              "        const charts = await google.colab.kernel.invokeFunction(\n",
              "            'suggestCharts', [key], {});\n",
              "      } catch (error) {\n",
              "        console.error('Error during call to suggestCharts:', error);\n",
              "      }\n",
              "      quickchartButtonEl.classList.remove('colab-df-spinner');\n",
              "      quickchartButtonEl.classList.add('colab-df-quickchart-complete');\n",
              "    }\n",
              "    (() => {\n",
              "      let quickchartButtonEl =\n",
              "        document.querySelector('#df-ab0458b2-1652-4c0f-bee2-c174fac2fd57 button');\n",
              "      quickchartButtonEl.style.display =\n",
              "        google.colab.kernel.accessAllowed ? 'block' : 'none';\n",
              "    })();\n",
              "  </script>\n",
              "</div>\n",
              "\n",
              "    </div>\n",
              "  </div>\n"
            ],
            "application/vnd.google.colaboratory.intrinsic+json": {
              "type": "dataframe",
              "summary": "{\n  \"name\": \"df[['Smoking', 'Age', 'Marital_Status']]\",\n  \"rows\": 227,\n  \"fields\": [\n    {\n      \"column\": \"Smoking\",\n      \"properties\": {\n        \"dtype\": \"category\",\n        \"num_unique_values\": 2,\n        \"samples\": [\n          \"No\",\n          \"Yes\"\n        ],\n        \"semantic_type\": \"\",\n        \"description\": \"\"\n      }\n    },\n    {\n      \"column\": \"Age\",\n      \"properties\": {\n        \"dtype\": \"number\",\n        \"std\": 7,\n        \"min\": 14,\n        \"max\": 39,\n        \"num_unique_values\": 24,\n        \"samples\": [\n          30,\n          36\n        ],\n        \"semantic_type\": \"\",\n        \"description\": \"\"\n      }\n    },\n    {\n      \"column\": \"Marital_Status\",\n      \"properties\": {\n        \"dtype\": \"category\",\n        \"num_unique_values\": 2,\n        \"samples\": [\n          \"Married\",\n          \"Single\"\n        ],\n        \"semantic_type\": \"\",\n        \"description\": \"\"\n      }\n    }\n  ]\n}"
            }
          },
          "metadata": {},
          "execution_count": 15
        }
      ]
    },
    {
      "cell_type": "code",
      "source": [],
      "metadata": {
        "id": "WXwEJvWNBEA4"
      },
      "execution_count": null,
      "outputs": []
    },
    {
      "cell_type": "code",
      "source": [
        "# Insights\n",
        "\n",
        "'''\n",
        "we can see MOST are in the 0 - 2.5 range (low stress)\n",
        "then it begins to decrease dramatically\n",
        "> finally begins increasing around 23 or 24 (high stress)\n",
        "'''"
      ],
      "metadata": {
        "id": "36_5bx_5kfun"
      },
      "execution_count": null,
      "outputs": []
    },
    {
      "cell_type": "code",
      "source": [
        "# FREQUENCIES: categorical.\n",
        "# what does this do?\n",
        "\n",
        "'''\n",
        "it simply counts the occurrences of each value count\n",
        "  > relative frequency divides it by the TOTAL for a percentage (%)\n",
        "    which can be easier to read or comprehend.\n",
        "'''"
      ],
      "metadata": {
        "id": "CVwffrTPAz_3"
      },
      "execution_count": null,
      "outputs": []
    },
    {
      "cell_type": "code",
      "source": [
        "# Plotting for easy frequency visualization.\n",
        "\n",
        "def freqPie(column):\n",
        "  count = df[column].value_counts()\n",
        "  plt.figure(figsize = (10, 6))\n",
        "  plt.pie(count, labels = df[column].unique(), autopct = '%1.1f%%',\n",
        "          startangle = 90, colors = ['mediumpurple', 'cornflowerblue'], shadow = True)\n",
        "          # Parameters Reference: https://www.geeksforgeeks.org/plot-a-pie-chart-in-python-using-matplotlib/\n",
        "  plt.title(f'Ratio of [\\'{column}\\'] Answers to Total')\n",
        "  plt.show()"
      ],
      "metadata": {
        "id": "PiOxwHHHR8Kf"
      },
      "execution_count": null,
      "outputs": []
    },
    {
      "cell_type": "code",
      "source": [
        "psych_freq = df['psychological_disorder'].value_counts()\n",
        "psych_total = df['psychological_disorder'].count()\n",
        "psych_relative = (psych_freq / psych_total) * 100\n",
        "\n",
        "psych_relative\n",
        "  # no is greater."
      ],
      "metadata": {
        "id": "G2hVgV8jBv6a"
      },
      "execution_count": null,
      "outputs": []
    },
    {
      "cell_type": "code",
      "source": [
        "psych_mode = df['psychological_disorder'].mode()[0]\n",
        "psych_mode_occurrence = df['psychological_disorder'].value_counts()[psych_mode]\n",
        "psych_count = df['psychological_disorder'].value_counts().sum()\n",
        "psych_mode_ratio = (psych_mode_occurrence / psych_count) * 100\n",
        "\n",
        "print(f'MODE\\n-----\\n\\\n",
        "mode: {psych_mode}\\n\\\n",
        "mode ocurrences: {psych_mode_occurrence}\\n\\\n",
        "total values: {psych_count}\\n\\\n",
        "mode occurrence to total count: {round(psych_mode_ratio, 2)}%')\n",
        "\n",
        "# Quick Note:\n",
        "'''\n",
        "Mode for categorical in *this* case is kinda useless.\n",
        "  > we only have 2 values so it's clear what the mode is.\n",
        "  > i've still done this for experimentation & proof.\n",
        "  > so.. no need to do it for the rest.\n",
        "'''"
      ],
      "metadata": {
        "id": "wlvAs-hOXY4X"
      },
      "execution_count": null,
      "outputs": []
    },
    {
      "cell_type": "code",
      "source": [
        "freqPie('psychological_disorder')"
      ],
      "metadata": {
        "id": "4_k-vvUeSloD"
      },
      "execution_count": null,
      "outputs": []
    },
    {
      "cell_type": "code",
      "source": [
        "mood_freq = df['irritable_mood'].value_counts()\n",
        "mood_total = df['irritable_mood'].count()\n",
        "mood_relative = (mood_freq / mood_total) * 100\n",
        "\n",
        "mood_relative\n",
        "  # almost 50/50, but yes is more."
      ],
      "metadata": {
        "id": "tbWruDDCA7nC"
      },
      "execution_count": null,
      "outputs": []
    },
    {
      "cell_type": "code",
      "source": [
        "freqPie('irritable_mood')"
      ],
      "metadata": {
        "id": "FpBHKsXTS2bR"
      },
      "execution_count": null,
      "outputs": []
    },
    {
      "cell_type": "code",
      "source": [
        "hallucinations_freq = df['hallucinations'].value_counts()\n",
        "hallucinations_total = df['hallucinations'].count()\n",
        "hallucinations_relative = (hallucinations_freq / hallucinations_total) * 100\n",
        "\n",
        "hallucinations_relative\n",
        "  # no is greater."
      ],
      "metadata": {
        "id": "B_-4X6BrB0sQ"
      },
      "execution_count": null,
      "outputs": []
    },
    {
      "cell_type": "code",
      "source": [
        "freqPie('hallucinations')"
      ],
      "metadata": {
        "id": "3ApTA2PzT8Cq"
      },
      "execution_count": null,
      "outputs": []
    },
    {
      "cell_type": "code",
      "source": [
        "anxiety_freq = df['unjustified_anxiety_fear'].value_counts()\n",
        "anxiety_total = df['unjustified_anxiety_fear'].count()\n",
        "anxiety_relative = (anxiety_freq / anxiety_total) * 100\n",
        "\n",
        "anxiety_relative\n",
        "  # no is greater."
      ],
      "metadata": {
        "id": "BPcJ5iLqCL3q"
      },
      "execution_count": null,
      "outputs": []
    },
    {
      "cell_type": "code",
      "source": [
        "freqPie('unjustified_anxiety_fear')"
      ],
      "metadata": {
        "id": "XvG6weSmUAUN"
      },
      "execution_count": null,
      "outputs": []
    },
    {
      "cell_type": "code",
      "source": [
        "aggression_freq = df['aggressive_behavior'].value_counts()\n",
        "aggression_total = df['aggressive_behavior'].count()\n",
        "aggression_relative = (aggression_freq / aggression_total) * 100\n",
        "\n",
        "aggression_relative\n",
        "  # almost 50/50, but no greater"
      ],
      "metadata": {
        "id": "9yD3Q35dCYzb"
      },
      "execution_count": null,
      "outputs": []
    },
    {
      "cell_type": "code",
      "source": [
        "freqPie('aggressive_behavior')"
      ],
      "metadata": {
        "id": "mYPDfxyUUDgB"
      },
      "execution_count": null,
      "outputs": []
    },
    {
      "cell_type": "code",
      "source": [
        "suicidal_freq = df['suicidal_behavior'].value_counts()\n",
        "suicidal_total = df['suicidal_behavior'].count()\n",
        "suicidal_relative = (suicidal_freq / suicidal_total) * 100\n",
        "\n",
        "suicidal_relative\n",
        "  # no is greater"
      ],
      "metadata": {
        "id": "H7WFTxiMCgLE"
      },
      "execution_count": null,
      "outputs": []
    },
    {
      "cell_type": "code",
      "source": [
        "freqPie('suicidal_behavior')"
      ],
      "metadata": {
        "id": "Bei0J4SVUHhc"
      },
      "execution_count": null,
      "outputs": []
    },
    {
      "cell_type": "code",
      "source": [
        "emotional_freq = df['difficulty_controlling_emotions'].value_counts()\n",
        "emotional_total = df['difficulty_controlling_emotions'].count()\n",
        "emotional_relative = (emotional_freq / emotional_total) * 100\n",
        "\n",
        "emotional_relative\n",
        "  # 50/50"
      ],
      "metadata": {
        "id": "xYWRII_8Cg2C"
      },
      "execution_count": null,
      "outputs": []
    },
    {
      "cell_type": "code",
      "source": [
        "freqPie('difficulty_controlling_emotions')"
      ],
      "metadata": {
        "id": "oOn_lfGkUKUA"
      },
      "execution_count": null,
      "outputs": []
    },
    {
      "cell_type": "code",
      "source": [
        "drug_freq = df['Drug_or_not'].value_counts()\n",
        "drug_total = df['Drug_or_not'].count()\n",
        "drug_relative = (drug_freq / drug_total) * 100\n",
        "\n",
        "drug_relative\n",
        "  # yes is more"
      ],
      "metadata": {
        "id": "dXyC5xYfDRtz"
      },
      "execution_count": null,
      "outputs": []
    },
    {
      "cell_type": "code",
      "source": [
        "freqPie('Drug_or_not')"
      ],
      "metadata": {
        "id": "W8WfGugjUNE9"
      },
      "execution_count": null,
      "outputs": []
    },
    {
      "cell_type": "code",
      "source": [
        "# freqnecy INSIGHTS\n",
        "\n",
        "'''\n",
        "it's hard to tell anything from this.\n",
        "'''"
      ],
      "metadata": {
        "id": "i_QT5TtvDCsc"
      },
      "execution_count": null,
      "outputs": []
    },
    {
      "cell_type": "code",
      "source": [
        "# GROUPBY:"
      ],
      "metadata": {
        "id": "td7VZ1SdEBiY"
      },
      "execution_count": null,
      "outputs": []
    },
    {
      "cell_type": "code",
      "source": [
        "stress_by_psych0 = df.groupby('psychological_disorder')['Weighted_Stress_Index'].count()\n",
        "stress_by_psych1 = df.groupby('psychological_disorder')['Weighted_Stress_Index'].mean()\n",
        "\n",
        "print(f'{stress_by_psych0}\\n\\n{stress_by_psych1}')"
      ],
      "metadata": {
        "id": "8gTxQuH2I_iK"
      },
      "execution_count": null,
      "outputs": []
    },
    {
      "cell_type": "code",
      "source": [
        "stress_by_mood0 = df.groupby('irritable_mood')['Weighted_Stress_Index'].count()\n",
        "stress_by_mood1 = df.groupby('irritable_mood')['Weighted_Stress_Index'].mean()\n",
        "\n",
        "print(f'{stress_by_mood0}\\n\\n{stress_by_mood1}')"
      ],
      "metadata": {
        "id": "47u_sA-BdPm3"
      },
      "execution_count": null,
      "outputs": []
    },
    {
      "cell_type": "code",
      "source": [
        "stress_by_hallucinations0 = df.groupby('hallucinations')['Weighted_Stress_Index'].count()\n",
        "stress_by_hallucinations1 = df.groupby('hallucinations')['Weighted_Stress_Index'].mean()\n",
        "\n",
        "print(f'{stress_by_hallucinations0}\\n\\n{stress_by_hallucinations1}')"
      ],
      "metadata": {
        "id": "HB3BLlUIddhl"
      },
      "execution_count": null,
      "outputs": []
    },
    {
      "cell_type": "code",
      "source": [
        "stress_by_anxiety0 = df.groupby('unjustified_anxiety_fear')['Weighted_Stress_Index'].count()\n",
        "stress_by_anxiety1 = df.groupby('unjustified_anxiety_fear')['Weighted_Stress_Index'].mean()\n",
        "\n",
        "print(f'{stress_by_anxiety0}\\n\\n{stress_by_anxiety1}')"
      ],
      "metadata": {
        "id": "khrxk7nkdltA"
      },
      "execution_count": null,
      "outputs": []
    },
    {
      "cell_type": "code",
      "source": [
        "stress_by_aggression0 = df.groupby('aggressive_behavior')['Weighted_Stress_Index'].count()\n",
        "stress_by_aggression1 = df.groupby('aggressive_behavior')['Weighted_Stress_Index'].mean()\n",
        "\n",
        "print(f'{stress_by_aggression0}\\n\\n{stress_by_aggression1}')"
      ],
      "metadata": {
        "id": "qNk7L7fDduF_"
      },
      "execution_count": null,
      "outputs": []
    },
    {
      "cell_type": "code",
      "source": [
        "stress_by_suicidal0 = df.groupby('suicidal_behavior')['Weighted_Stress_Index'].count()\n",
        "stress_by_suicidal1 = df.groupby('suicidal_behavior')['Weighted_Stress_Index'].mean()\n",
        "\n",
        "print(f'{stress_by_suicidal0}\\n\\n{stress_by_suicidal1}')"
      ],
      "metadata": {
        "id": "8FCNYFqwd3tY"
      },
      "execution_count": null,
      "outputs": []
    },
    {
      "cell_type": "code",
      "source": [
        "stress_by_emotional0 = df.groupby('difficulty_controlling_emotions')['Weighted_Stress_Index'].count()\n",
        "stress_by_emotional1 = df.groupby('difficulty_controlling_emotions')['Weighted_Stress_Index'].mean()\n",
        "\n",
        "print(f'{stress_by_emotional0}\\n\\n{stress_by_emotional1}')"
      ],
      "metadata": {
        "id": "JXVbiRKteEBz"
      },
      "execution_count": null,
      "outputs": []
    },
    {
      "cell_type": "code",
      "source": [
        "stress_by_drugs0 = df.groupby('Drug_or_not')['Weighted_Stress_Index'].count()\n",
        "stress_by_drugs1 = df.groupby('Drug_or_not')['Weighted_Stress_Index'].mean()\n",
        "\n",
        "print(f'{stress_by_drugs0}\\n\\n{stress_by_drugs1}')"
      ],
      "metadata": {
        "id": "oBlpVvL3fYVH"
      },
      "execution_count": null,
      "outputs": []
    },
    {
      "cell_type": "code",
      "source": [
        "# INSIGHTS\n",
        "# when = yes, avg. stress is 23 and up (very high)"
      ],
      "metadata": {
        "id": "HT39YcwCeK2O"
      },
      "execution_count": null,
      "outputs": []
    },
    {
      "cell_type": "code",
      "source": [
        "# BAR GRAPH for above groupbys."
      ],
      "metadata": {
        "id": "fMlLEpnjiA7D"
      },
      "execution_count": null,
      "outputs": []
    },
    {
      "cell_type": "code",
      "source": [
        "# Needed data\n",
        "cols = ['Psych. Disorder', 'Irritable Mood', 'Hallucinations',\n",
        "        'Unjustified Anxiety Fear',' Aggressive Behavior', 'Suicidal Behavior',\n",
        "        'Difficulty Controlling Emotions', 'Drug or Not']\n",
        "mean = [stress_by_psych1, stress_by_mood1, stress_by_hallucinations1,\n",
        "        stress_by_anxiety1, stress_by_aggression1, stress_by_suicidal1,\n",
        "        stress_by_emotional1, stress_by_drugs1]\n",
        "\n",
        "# Plotting\n",
        "plt.figure(figsize = (18, 12))\n",
        "plt.bar(cols, [m.mean() for m in mean], color = 'mediumpurple', edgecolor = 'black')\n",
        "plt.xlabel('Columns')\n",
        "plt.ylabel('Weighted Stress Index (Mean)')\n",
        "plt.title('Weighted Stress Index (Mean) by Column')\n",
        "plt.tight_layout()\n",
        "plt.show()\n",
        "\n",
        "# Why? > helps us visualize which contributes to highest avg. stress\n",
        "# Highest = suicidal behavior, then psych. disorder"
      ],
      "metadata": {
        "id": "2RwBvqkMfGvJ"
      },
      "execution_count": null,
      "outputs": []
    },
    {
      "cell_type": "code",
      "source": [
        "# CONTINGENCY TABLES"
      ],
      "metadata": {
        "id": "EUg3Xt9EetSy"
      },
      "execution_count": null,
      "outputs": []
    },
    {
      "cell_type": "code",
      "source": [
        "# Function for plotting for effiency\n",
        "def stackedBar(cross):\n",
        "\n",
        "  # Loop to go through values in crosstab table.\n",
        "  for i, data in enumerate(cross):\n",
        "\n",
        "    # All cols & rows besides 'All' in crosstab table\n",
        "    data = data.iloc[:-1, :-1]\n",
        "    plt.figure(figsize = (10, 6))\n",
        "    data.plot(kind = 'bar', rot = 0, color = ['mediumpurple', 'cornflowerblue'], edgecolor = 'black')\n",
        "\n",
        "    # Labeling it according to crosstab index & col names\n",
        "    plt.title(f'{data.index.name} vs. {data.columns.name}')\n",
        "    plt.xlabel(f'{data.index.name}')\n",
        "    plt.ylabel('Frequency')\n",
        "\n",
        "    # Printing\n",
        "    plt.show()"
      ],
      "metadata": {
        "id": "gZbpRWxVys6p"
      },
      "execution_count": null,
      "outputs": []
    },
    {
      "cell_type": "code",
      "source": [
        "# Row percentages\n",
        "def rowPercent(cross):\n",
        "  for i, row in enumerate(cross):\n",
        "    cross[i] = row.div(row['All'], axis = 0) * 100\n",
        "    print(f'{cross[i]}\\n\\n')\n",
        "\n",
        "# Column percentages\n",
        "def colPercent(cross):\n",
        "  for i, col in enumerate(cross):\n",
        "    cross[i] = col.div(col.loc['All'], axis = 1) * 100\n",
        "    print(f'{cross[i]}\\n\\n')"
      ],
      "metadata": {
        "id": "8ZGVLdhf0NsR"
      },
      "execution_count": null,
      "outputs": []
    },
    {
      "cell_type": "code",
      "source": [
        "psych_cross0 = pd.crosstab(df['psychological_disorder'], df['unjustified_anxiety_fear'], margins = True)\n",
        "psych_cross1 = pd.crosstab(df['psychological_disorder'], df['aggressive_behavior'], margins = True)\n",
        "psych_cross2 = pd.crosstab(df['psychological_disorder'], df['suicidal_behavior'], margins = True)\n",
        "psych_cross3 = pd.crosstab(df['psychological_disorder'], df['difficulty_controlling_emotions'], margins = True)\n",
        "psych_cross4 = pd.crosstab(df['psychological_disorder'], df['Drug_or_not'], margins = True)\n",
        "\n",
        "print(f'{psych_cross0}\\n\\n\\\n",
        "{psych_cross1}\\n\\n\\\n",
        "{psych_cross2}\\n\\n\\\n",
        "{psych_cross3}\\n\\n\\\n",
        "{psych_cross4}')\n",
        "\n",
        "# psych x anxiety: no > no\n",
        "# psych x aggression: not too clear. (SCRAP)\n",
        "# psych x suicidal: no > no\n",
        "# psych x emotonal: not too clear. (SCRAP)"
      ],
      "metadata": {
        "id": "Um6PW4WiyENu",
        "colab": {
          "base_uri": "https://localhost:8080/"
        },
        "outputId": "dd1de27a-04e1-409d-ad22-d1cb8c0eaac5"
      },
      "execution_count": null,
      "outputs": [
        {
          "output_type": "stream",
          "name": "stdout",
          "text": [
            "unjustified_anxiety_fear   No  Yes  All\n",
            "psychological_disorder                 \n",
            "No                        109   46  155\n",
            "Yes                        32   40   72\n",
            "All                       141   86  227\n",
            "\n",
            "aggressive_behavior      No  Yes  All\n",
            "psychological_disorder               \n",
            "No                       97   58  155\n",
            "Yes                      25   47   72\n",
            "All                     122  105  227\n",
            "\n",
            "suicidal_behavior        No  Yes  All\n",
            "psychological_disorder               \n",
            "No                      120   35  155\n",
            "Yes                      38   34   72\n",
            "All                     158   69  227\n",
            "\n",
            "difficulty_controlling_emotions   No  Yes  All\n",
            "psychological_disorder                        \n",
            "No                                89   66  155\n",
            "Yes                               23   49   72\n",
            "All                              112  115  227\n",
            "\n",
            "Drug_or_not             No  Yes  All\n",
            "psychological_disorder              \n",
            "No                      62   93  155\n",
            "Yes                     12   60   72\n",
            "All                     74  153  227\n"
          ]
        }
      ]
    },
    {
      "cell_type": "code",
      "source": [
        "# Stacked bar chart\n",
        "psych_cross_data = [psych_cross0, psych_cross1, psych_cross2, psych_cross3, psych_cross4]\n",
        "stackedBar(psych_cross_data)"
      ],
      "metadata": {
        "id": "EK9xlvgZGFXx"
      },
      "execution_count": null,
      "outputs": []
    },
    {
      "cell_type": "code",
      "source": [
        "# Row percentage\n",
        "psych_cross_data = [psych_cross0, psych_cross1, psych_cross2, psych_cross3, psych_cross4]\n",
        "rowPercent(psych_cross_data)"
      ],
      "metadata": {
        "id": "fBYn2afnr-VL"
      },
      "execution_count": null,
      "outputs": []
    },
    {
      "cell_type": "code",
      "source": [
        "# Column percentage\n",
        "psych_cross_data = [psych_cross0, psych_cross1, psych_cross2, psych_cross3, psych_cross4]\n",
        "colPercent(psych_cross_data)"
      ],
      "metadata": {
        "id": "KAhB6gzixL1n"
      },
      "execution_count": null,
      "outputs": []
    },
    {
      "cell_type": "code",
      "source": [
        "# IRRITABLE MOOD: Contingency Table(s)\n",
        "mood_cross0 = pd.crosstab(df['irritable_mood'], df['hallucinations'], margins = True)\n",
        "mood_cross1 = pd.crosstab(df['irritable_mood'], df['unjustified_anxiety_fear'], margins = True)\n",
        "mood_cross2 = pd.crosstab(df['irritable_mood'], df['aggressive_behavior'], margins = True)\n",
        "mood_cross3 = pd.crosstab(df['irritable_mood'], df['difficulty_controlling_emotions'], margins = True)\n",
        "mood_cross4 = pd.crosstab(df['irritable_mood'], df['Drug_or_not'], margins = True)\n",
        "\n",
        "print(f'{mood_cross0}\\n\\n\\\n",
        "{mood_cross1}\\n\\n\\\n",
        "{mood_cross2}\\n\\n\\\n",
        "{mood_cross3}\\n\\n\\\n",
        "{mood_cross4}')\n",
        "\n",
        "# INSIGHTS\n",
        "'''\n",
        "mood x emotional: no > no, yes > yes\n",
        "mood x drugs: yes > yes\n",
        "mood x anxiety: no > no\n",
        "mood x aggression: no > no, kinda yes > yes\n",
        "'''"
      ],
      "metadata": {
        "id": "5gyhf-WXwefu",
        "colab": {
          "base_uri": "https://localhost:8080/",
          "height": 538
        },
        "outputId": "70bf35ad-2d5a-4e71-ff7c-32c5ddcb0e4f"
      },
      "execution_count": null,
      "outputs": [
        {
          "output_type": "stream",
          "name": "stdout",
          "text": [
            "hallucinations   No  Yes  All\n",
            "irritable_mood               \n",
            "No               83   16   99\n",
            "Yes              63   65  128\n",
            "All             146   81  227\n",
            "\n",
            "unjustified_anxiety_fear   No  Yes  All\n",
            "irritable_mood                         \n",
            "No                         84   15   99\n",
            "Yes                        57   71  128\n",
            "All                       141   86  227\n",
            "\n",
            "aggressive_behavior   No  Yes  All\n",
            "irritable_mood                    \n",
            "No                    80   19   99\n",
            "Yes                   42   86  128\n",
            "All                  122  105  227\n",
            "\n",
            "difficulty_controlling_emotions   No  Yes  All\n",
            "irritable_mood                                \n",
            "No                                77   22   99\n",
            "Yes                               35   93  128\n",
            "All                              112  115  227\n",
            "\n",
            "Drug_or_not     No  Yes  All\n",
            "irritable_mood              \n",
            "No              69   30   99\n",
            "Yes              5  123  128\n",
            "All             74  153  227\n"
          ]
        },
        {
          "output_type": "execute_result",
          "data": {
            "text/plain": [
              "'\\nmood x emotional: no > no, yes > yes\\nmood x drugs: yes > yes\\nmood x anxiety: no > no\\nmood x aggression: no > no, kinda yes > yes\\n'"
            ],
            "application/vnd.google.colaboratory.intrinsic+json": {
              "type": "string"
            }
          },
          "metadata": {},
          "execution_count": 23
        }
      ]
    },
    {
      "cell_type": "code",
      "source": [
        "# Stacked bar chart\n",
        "mood_cross_data = [mood_cross0, mood_cross1, mood_cross2, mood_cross3, mood_cross4]\n",
        "stackedBar(mood_cross_data)"
      ],
      "metadata": {
        "id": "y_lFbOls_s_Y"
      },
      "execution_count": null,
      "outputs": []
    },
    {
      "cell_type": "code",
      "source": [
        "# Row percentage\n",
        "mood_cross_data = [mood_cross0, mood_cross1, mood_cross2, mood_cross3, mood_cross4]\n",
        "rowPercent(mood_cross_data)"
      ],
      "metadata": {
        "id": "PKnF65-61a-x"
      },
      "execution_count": null,
      "outputs": []
    },
    {
      "cell_type": "code",
      "source": [
        "# Column percentage\n",
        "mood_cross_data = [mood_cross0, mood_cross1, mood_cross2, mood_cross3, mood_cross4]\n",
        "colPercent(mood_cross_data)"
      ],
      "metadata": {
        "id": "zCr7zT1-1h5m"
      },
      "execution_count": null,
      "outputs": []
    },
    {
      "cell_type": "code",
      "source": [
        "# HALLUCINATIONS: Contingency Table(s)\n",
        "hallucinations_cross0 = pd.crosstab(df['hallucinations'], df['unjustified_anxiety_fear'], margins = True)\n",
        "hallucinations_cross1 = pd.crosstab(df['hallucinations'], df['aggressive_behavior'], margins = True)\n",
        "hallucinations_cross2 = pd.crosstab(df['hallucinations'], df['suicidal_behavior'], margins = True)\n",
        "hallucinations_cross3 = pd.crosstab(df['hallucinations'], df['difficulty_controlling_emotions'], margins = True)\n",
        "hallucinations_cross4 = pd.crosstab(df['hallucinations'], df['Drug_or_not'], margins = True)\n",
        "\n",
        "print(f'{hallucinations_cross0}\\n\\n\\\n",
        "{hallucinations_cross1}\\n\\n\\\n",
        "{hallucinations_cross2}\\n\\n\\\n",
        "{hallucinations_cross3}\\n\\n\\\n",
        "{hallucinations_cross4}')\n",
        "\n",
        "# INSIGHTS\n",
        "# x anxiety: no > no\n",
        "# x aggression: no > no, yes > yes\n",
        "# x emotional: not too clear\n",
        "# x drugs: yes > yes"
      ],
      "metadata": {
        "id": "ElgLWj0XzZFG"
      },
      "execution_count": null,
      "outputs": []
    },
    {
      "cell_type": "code",
      "source": [
        "# Stack bar chart\n",
        "hallucinations_cross_data = [hallucinations_cross0, hallucinations_cross1, hallucinations_cross2,\n",
        "                             hallucinations_cross3, hallucinations_cross4]\n",
        "stackedBar(hallucinations_cross_data)"
      ],
      "metadata": {
        "id": "AE0Ab0ni-bHc"
      },
      "execution_count": null,
      "outputs": []
    },
    {
      "cell_type": "code",
      "source": [
        "# Row percentage\n",
        "hallucinations_cross_data = [hallucinations_cross0, hallucinations_cross1, hallucinations_cross2,\n",
        "                             hallucinations_cross3, hallucinations_cross4]\n",
        "rowPercent(hallucinations_cross_data)"
      ],
      "metadata": {
        "id": "MBAUtLys2GeR"
      },
      "execution_count": null,
      "outputs": []
    },
    {
      "cell_type": "code",
      "source": [
        "# Column percentage\n",
        "hallucinations_cross_data = [hallucinations_cross0, hallucinations_cross1, hallucinations_cross2,\n",
        "                             hallucinations_cross3, hallucinations_cross4]\n",
        "colPercent(hallucinations_cross_data)"
      ],
      "metadata": {
        "id": "BSeu82CF2JWs"
      },
      "execution_count": null,
      "outputs": []
    },
    {
      "cell_type": "code",
      "source": [
        "# UNJUSTIFIED ANXIETY/FEAR: Contingency Table(s)\n",
        "anxiety_cross0 = pd.crosstab(df['unjustified_anxiety_fear'], df['aggressive_behavior'], margins = True)\n",
        "anxiety_cross1 = pd.crosstab(df['unjustified_anxiety_fear'], df['suicidal_behavior'], margins = True)\n",
        "anxiety_cross2 = pd.crosstab(df['unjustified_anxiety_fear'], df['difficulty_controlling_emotions'], margins = True)\n",
        "anxiety_cross3 = pd.crosstab(df['unjustified_anxiety_fear'], df['Drug_or_not'], margins = True)\n",
        "\n",
        "print(f'{anxiety_cross0}\\n\\n\\\n",
        "{anxiety_cross1}\\n\\n\\\n",
        "{anxiety_cross2}\\n\\n\\\n",
        "{anxiety_cross3}')\n",
        "\n",
        "# INSIGHTS\n",
        "\n",
        "# x aggresion: no > no, yes > yes\n",
        "# x suicidal: no > no\n",
        "# x emotional: no > no, yes > yes\n",
        "# x drugs: yes > yes"
      ],
      "metadata": {
        "id": "LB3b4QDQ0WEI"
      },
      "execution_count": null,
      "outputs": []
    },
    {
      "cell_type": "code",
      "source": [
        "anxiety_cross_data = [anxiety_cross0, anxiety_cross1, anxiety_cross2, anxiety_cross3]\n",
        "\n",
        "# Stack bar chart\n",
        "stackedBar(anxiety_cross_data)"
      ],
      "metadata": {
        "id": "gQpaEA7tE9HD"
      },
      "execution_count": null,
      "outputs": []
    },
    {
      "cell_type": "code",
      "source": [
        "# Row percentage\n",
        "anxiety_cross_data = [anxiety_cross0, anxiety_cross1, anxiety_cross2, anxiety_cross3]\n",
        "rowPercent(anxiety_cross_data)"
      ],
      "metadata": {
        "id": "9OjEMsYr2Y7f"
      },
      "execution_count": null,
      "outputs": []
    },
    {
      "cell_type": "code",
      "source": [
        "# Column percent\n",
        "anxiety_cross_data = [anxiety_cross0, anxiety_cross1, anxiety_cross2, anxiety_cross3]\n",
        "colPercent(anxiety_cross_data)"
      ],
      "metadata": {
        "id": "Kf9n8Cfn2bq_"
      },
      "execution_count": null,
      "outputs": []
    },
    {
      "cell_type": "code",
      "source": [
        "# AGGRESSIVE BEHAVIOR: Contingency Table(s)\n",
        "aggression_cross0 = pd.crosstab(df['aggressive_behavior'], df['suicidal_behavior'], margins = True)\n",
        "aggression_cross1 = pd.crosstab(df['aggressive_behavior'], df['difficulty_controlling_emotions'], margins = True)\n",
        "aggression_cross2 = pd.crosstab(df['aggressive_behavior'], df['Drug_or_not'], margins = True)\n",
        "\n",
        "print(f'{aggression_cross0}\\n\\n\\\n",
        "{aggression_cross1}\\n\\n\\\n",
        "{aggression_cross2}')"
      ],
      "metadata": {
        "id": "LR1zYRhT7Yo7"
      },
      "execution_count": null,
      "outputs": []
    },
    {
      "cell_type": "code",
      "source": [
        "aggression_cross_data = [aggression_cross0, aggression_cross1, aggression_cross2]\n",
        "\n",
        "# Stack bar chart\n",
        "stackedBar(aggression_cross_data)"
      ],
      "metadata": {
        "id": "JgosPfyMocLi"
      },
      "execution_count": null,
      "outputs": []
    },
    {
      "cell_type": "code",
      "source": [
        "# Row percent\n",
        "aggression_cross_data = [aggression_cross0, aggression_cross1, aggression_cross2]\n",
        "rowPercent(aggression_cross_data)"
      ],
      "metadata": {
        "id": "n1_3EAei2nkJ"
      },
      "execution_count": null,
      "outputs": []
    },
    {
      "cell_type": "code",
      "source": [
        "# Column percent\n",
        "aggression_cross_data = [aggression_cross0, aggression_cross1, aggression_cross2]\n",
        "colPercent(aggression_cross_data)"
      ],
      "metadata": {
        "id": "oJkSnQ9e2qbE"
      },
      "execution_count": null,
      "outputs": []
    },
    {
      "cell_type": "code",
      "source": [
        "# SUICIDAL BEHAVIOR: Contingency Table(s)\n",
        "suicidal_cross0 = pd.crosstab(df['suicidal_behavior'], df['difficulty_controlling_emotions'], margins = True)\n",
        "suicidal_cross1 = pd.crosstab(df['suicidal_behavior'], df['Drug_or_not'], margins = True)\n",
        "\n",
        "print(f'{suicidal_cross0}\\n\\n\\\n",
        "{suicidal_cross1}')"
      ],
      "metadata": {
        "id": "8O56oQ9Qoh8V"
      },
      "execution_count": null,
      "outputs": []
    },
    {
      "cell_type": "code",
      "source": [
        "suicidal_cross_data = [suicidal_cross0, suicidal_cross1]\n",
        "\n",
        "# Stacked bar chart(s)\n",
        "stackedBar(suicidal_cross_data)"
      ],
      "metadata": {
        "id": "1v6J6OhPo1OM"
      },
      "execution_count": null,
      "outputs": []
    },
    {
      "cell_type": "code",
      "source": [
        "# Row percentage\n",
        "suicidal_cross_data = [suicidal_cross0, suicidal_cross1]\n",
        "rowPercent(suicidal_cross_data)"
      ],
      "metadata": {
        "id": "ehwVLYnc224P"
      },
      "execution_count": null,
      "outputs": []
    },
    {
      "cell_type": "code",
      "source": [
        "# Column percentage\n",
        "suicidal_cross_data = [suicidal_cross0, suicidal_cross1]\n",
        "colPercent(suicidal_cross_data)"
      ],
      "metadata": {
        "id": "fT7Bzo4U25SE"
      },
      "execution_count": null,
      "outputs": []
    },
    {
      "cell_type": "code",
      "source": [
        "# DIFFICULTY CONTROLLING EMOTIONS: Contingency Table(s)\n",
        "emotional_cross0 = pd.crosstab(df['difficulty_controlling_emotions'], df['aggressive_behavior'], margins = True)\n",
        "emotional_cross1 = pd.crosstab(df['difficulty_controlling_emotions'], df['Drug_or_not'], margins = True)\n",
        "\n",
        "print(f'{emotional_cross0}\\n\\n\\\n",
        "{emotional_cross1}')"
      ],
      "metadata": {
        "id": "w0FXbwKro5MU"
      },
      "execution_count": null,
      "outputs": []
    },
    {
      "cell_type": "code",
      "source": [
        "emotional_cross_data = [emotional_cross0, emotional_cross1]\n",
        "\n",
        "# Stacked bar chart(s)\n",
        "stackedBar(emotional_cross_data)"
      ],
      "metadata": {
        "id": "diqB639tpL0l"
      },
      "execution_count": null,
      "outputs": []
    },
    {
      "cell_type": "code",
      "source": [
        "# Row percentage\n",
        "emotional_cross_data = [emotional_cross0, emotional_cross1]\n",
        "rowPercent(emotional_cross_data)"
      ],
      "metadata": {
        "id": "SvuCROYR3ElI"
      },
      "execution_count": null,
      "outputs": []
    },
    {
      "cell_type": "code",
      "source": [
        "# Column percentage\n",
        "emotional_cross_data = [emotional_cross0, emotional_cross1]\n",
        "colPercent(emotional_cross_data)"
      ],
      "metadata": {
        "id": "Tho-0fOW3HEJ"
      },
      "execution_count": null,
      "outputs": []
    },
    {
      "cell_type": "code",
      "source": [
        "# mainly what i'm focusing on.\n",
        "\n",
        "# DRUG OR NOT: Contingency Table(s)\n",
        "drug_cross0 = pd.crosstab(df['Drug_or_not'], df['psychological_disorder'], margins = True)\n",
        "drug_cross1 = pd.crosstab(df['Drug_or_not'], df['irritable_mood'], margins = True)\n",
        "drug_cross2 = pd.crosstab(df['Drug_or_not'], df['hallucinations'], margins = True)\n",
        "drug_cross3 = pd.crosstab(df['Drug_or_not'], df['unjustified_anxiety_fear'], margins = True)\n",
        "drug_cross4 = pd.crosstab(df['Drug_or_not'], df['aggressive_behavior'], margins = True)\n",
        "drug_cross5 = pd.crosstab(df['Drug_or_not'], df['suicidal_behavior'], margins = True)\n",
        "drug_cross6 = pd.crosstab(df['Drug_or_not'], df['difficulty_controlling_emotions'], margins = True)\n",
        "\n",
        "print(f'{drug_cross0}\\n\\n\\\n",
        "{drug_cross1}\\n\\n\\\n",
        "{drug_cross2}\\n\\n\\\n",
        "{drug_cross3}\\n\\n\\\n",
        "{drug_cross4}\\n\\n\\\n",
        "{drug_cross5}\\n\\n\\\n",
        "{drug_cross6}')\n",
        "\n",
        "# big 'Yes' indications: irritable_mood and difficulty_controlling_emotions (if yes > yes)\n",
        "# rest are big 'No' indications (if no > no)"
      ],
      "metadata": {
        "id": "itizZTD4pOvi"
      },
      "execution_count": null,
      "outputs": []
    },
    {
      "cell_type": "code",
      "source": [
        "drug_cross0"
      ],
      "metadata": {
        "id": "cSaTWyQK-zcc"
      },
      "execution_count": null,
      "outputs": []
    },
    {
      "cell_type": "code",
      "source": [
        "drug_cross1"
      ],
      "metadata": {
        "id": "UdMjkwRP-2hb"
      },
      "execution_count": null,
      "outputs": []
    },
    {
      "cell_type": "code",
      "source": [
        "drug_cross2"
      ],
      "metadata": {
        "id": "58F7TXi7-32l"
      },
      "execution_count": null,
      "outputs": []
    },
    {
      "cell_type": "code",
      "source": [
        "drug_cross3"
      ],
      "metadata": {
        "id": "IF128OeA-41H"
      },
      "execution_count": null,
      "outputs": []
    },
    {
      "cell_type": "code",
      "source": [
        "drug_cross4"
      ],
      "metadata": {
        "id": "x0ge4vIH-6Hk"
      },
      "execution_count": null,
      "outputs": []
    },
    {
      "cell_type": "code",
      "source": [
        "drug_cross5"
      ],
      "metadata": {
        "id": "XiIjn0x3-7Fo"
      },
      "execution_count": null,
      "outputs": []
    },
    {
      "cell_type": "code",
      "source": [
        "drug_cross6"
      ],
      "metadata": {
        "id": "vIomznqd-8Mq"
      },
      "execution_count": null,
      "outputs": []
    },
    {
      "cell_type": "code",
      "source": [
        "drug_cross_data = [drug_cross0, drug_cross1, drug_cross2, drug_cross3,\n",
        "                   drug_cross4, drug_cross5, drug_cross6]\n",
        "\n",
        "# bar chart(s)\n",
        "stackedBar(drug_cross_data)"
      ],
      "metadata": {
        "id": "5WTu9kKFqGgz"
      },
      "execution_count": null,
      "outputs": []
    },
    {
      "cell_type": "code",
      "source": [
        "# Row percentage\n",
        "drug_cross_data = [drug_cross0, drug_cross1, drug_cross2, drug_cross3,\n",
        "                   drug_cross4, drug_cross5, drug_cross6]\n",
        "rowPercent(drug_cross_data)"
      ],
      "metadata": {
        "id": "L7ry_w8T3WoZ"
      },
      "execution_count": null,
      "outputs": []
    },
    {
      "cell_type": "code",
      "source": [
        "# Column percent\n",
        "drug_cross_data = [drug_cross0, drug_cross1, drug_cross2, drug_cross3,\n",
        "                   drug_cross4, drug_cross5, drug_cross6]\n",
        "colPercent(drug_cross_data)"
      ],
      "metadata": {
        "id": "sEMP7A3b3fhq"
      },
      "execution_count": null,
      "outputs": []
    },
    {
      "cell_type": "code",
      "source": [
        "# Continuing groupby based on contingency tables."
      ],
      "metadata": {
        "id": "YfSTFwx95uHS"
      },
      "execution_count": null,
      "outputs": []
    },
    {
      "cell_type": "code",
      "source": [
        "drug_grouped0 = df.groupby(['irritable_mood', 'difficulty_controlling_emotions', 'Drug_or_not'])['Drug_or_not'].count()\n",
        "drug_grouped0\n",
        "\n",
        "# so when irritable mood = no, emotion > no and drug > no\n",
        "# VICE VERSA."
      ],
      "metadata": {
        "id": "OfiQ43lj3iol"
      },
      "execution_count": null,
      "outputs": []
    },
    {
      "cell_type": "code",
      "source": [
        "stress_grouped0 = df.groupby(['unjustified_anxiety_fear', 'difficulty_controlling_emotions'])['Weighted_Stress_Index'].mean()\n",
        "stress_grouped0"
      ],
      "metadata": {
        "id": "5DZMNiTe71zH"
      },
      "execution_count": null,
      "outputs": []
    },
    {
      "cell_type": "code",
      "source": [
        "drug_grouped1 = df.groupby(['aggressive_behavior', 'difficulty_controlling_emotions'])['Drug_or_not'].count()\n",
        "drug_grouped1"
      ],
      "metadata": {
        "id": "_eO7XFq25VJh"
      },
      "execution_count": null,
      "outputs": []
    },
    {
      "cell_type": "code",
      "source": [
        "stress_grouped1 = df.groupby(['aggressive_behavior', 'difficulty_controlling_emotions'])['Weighted_Stress_Index'].mean()\n",
        "stress_grouped1"
      ],
      "metadata": {
        "id": "8sSOvheC8Mi9"
      },
      "execution_count": null,
      "outputs": []
    },
    {
      "cell_type": "code",
      "source": [
        "drug_grouped2 = df.groupby(['aggressive_behavior', 'irritable_mood'])['Drug_or_not'].count()\n",
        "drug_grouped2"
      ],
      "metadata": {
        "id": "H7wFtX3B7JZ6"
      },
      "execution_count": null,
      "outputs": []
    },
    {
      "cell_type": "code",
      "source": [
        "stress_grouped2 = df.groupby(['aggressive_behavior', 'irritable_mood'])['Weighted_Stress_Index'].mean()\n",
        "stress_grouped2"
      ],
      "metadata": {
        "id": "wV2vxjju8Wbw"
      },
      "execution_count": null,
      "outputs": []
    },
    {
      "cell_type": "code",
      "source": [
        "drug_grouped3 = df.groupby(['hallucinations', 'difficulty_controlling_emotions'])['Drug_or_not'].count()\n",
        "drug_grouped3 # meh"
      ],
      "metadata": {
        "id": "4Xk8Xgo37Qs6"
      },
      "execution_count": null,
      "outputs": []
    },
    {
      "cell_type": "code",
      "source": [
        "stress_grouped3 = df.groupby(['hallucinations', 'difficulty_controlling_emotions'])['Weighted_Stress_Index'].mean()\n",
        "stress_grouped3 # meh"
      ],
      "metadata": {
        "id": "Gl-kWDJu8h1J"
      },
      "execution_count": null,
      "outputs": []
    },
    {
      "cell_type": "code",
      "source": [
        "drug_grouped4 = df.groupby(['unjustified_anxiety_fear', 'difficulty_controlling_emotions'])['Drug_or_not'].count()\n",
        "drug_grouped4"
      ],
      "metadata": {
        "id": "Q6Rm-9UB7XIq"
      },
      "execution_count": null,
      "outputs": []
    },
    {
      "cell_type": "code",
      "source": [
        "stress_grouped4 = df.groupby(['unjustified_anxiety_fear', 'difficulty_controlling_emotions'])['Weighted_Stress_Index'].mean()\n",
        "stress_grouped4"
      ],
      "metadata": {
        "id": "pO650puu8vvo"
      },
      "execution_count": null,
      "outputs": []
    },
    {
      "cell_type": "code",
      "source": [
        "drug_grouped5 = df.groupby(['unjustified_anxiety_fear', 'aggressive_behavior'])['Drug_or_not'].count()\n",
        "drug_grouped5 # good one"
      ],
      "metadata": {
        "id": "AvgsCHQk7hjJ"
      },
      "execution_count": null,
      "outputs": []
    },
    {
      "cell_type": "code",
      "source": [
        "stress_grouped5 = df.groupby(['unjustified_anxiety_fear', 'aggressive_behavior'])['Weighted_Stress_Index'].mean()\n",
        "stress_grouped5 # good one"
      ],
      "metadata": {
        "id": "OXKE8SqM86Sr"
      },
      "execution_count": null,
      "outputs": []
    },
    {
      "cell_type": "code",
      "source": [
        "yes_drug = df[df['Drug_or_not'] == 'Yes']\n",
        "drug_grouped6 = df.groupby(['suicidal_behavior', 'difficulty_controlling_emotions']).count()\n",
        "drug_grouped6 # kinda good too."
      ],
      "metadata": {
        "id": "pHophqzz7meR"
      },
      "execution_count": null,
      "outputs": []
    },
    {
      "cell_type": "code",
      "source": [
        "drug_grouped6 = df.groupby(['unjustified_anxiety_fear',\n",
        "                               'aggressive_behavior', 'suicidal_behavior',\n",
        "                               'difficulty_controlling_emotions',\n",
        "                               'irritable_mood', 'Drug_or_not']).count()\n",
        "drug_grouped6 # kinda good too."
      ],
      "metadata": {
        "id": "r8niHtDvSVf_"
      },
      "execution_count": null,
      "outputs": []
    },
    {
      "cell_type": "code",
      "source": [
        "drug_grouped7 = df.groupby(['unjustified_anxiety_fear',\n",
        "                               'aggressive_behavior', 'suicidal_behavior',\n",
        "                               'difficulty_controlling_emotions',\n",
        "                               'irritable_mood', 'Drug_or_not'])['Drug_or_not'].count()\n",
        "drug_grouped7 # kinda good too."
      ],
      "metadata": {
        "id": "Gq77AqWVSuUk"
      },
      "execution_count": null,
      "outputs": []
    },
    {
      "cell_type": "code",
      "source": [
        "stress_grouped6 = df.groupby(['suicidal_behavior', 'difficulty_controlling_emotions'])['Weighted_Stress_Index'].mean()\n",
        "stress_grouped6 # kinda good too."
      ],
      "metadata": {
        "id": "F066nO0U7u85"
      },
      "execution_count": null,
      "outputs": []
    },
    {
      "cell_type": "code",
      "source": [
        "stress_grouped7 = df.groupby(['aggressive_behavior', 'difficulty_controlling_emotions'])['Weighted_Stress_Index'].mean()\n",
        "stress_grouped7 # kinda good too."
      ],
      "metadata": {
        "id": "4b_vM3Wo9JsP"
      },
      "execution_count": null,
      "outputs": []
    },
    {
      "cell_type": "code",
      "source": [
        "stress_grouped8 = df.groupby(['aggressive_behavior', 'suicidal_behavior'])['Weighted_Stress_Index'].mean()\n",
        "stress_grouped8 # kinda good too."
      ],
      "metadata": {
        "id": "ex9S0Onn9Oaj"
      },
      "execution_count": null,
      "outputs": []
    },
    {
      "cell_type": "code",
      "source": [
        "stress_grouped9 = df.groupby(['aggressive_behavior', 'suicidal_behavior',\n",
        "                              'difficulty_controlling_emotions'])['Weighted_Stress_Index'].mean()\n",
        "stress_grouped9 # kinda good too."
      ],
      "metadata": {
        "id": "o07KfPEO9TvQ"
      },
      "execution_count": null,
      "outputs": []
    },
    {
      "cell_type": "code",
      "source": [
        "stress_grouped10 = df.groupby(['aggressive_behavior', 'suicidal_behavior',\n",
        "                              'difficulty_controlling_emotions',\n",
        "                               'irritable_mood'])['Weighted_Stress_Index'].mean()\n",
        "stress_grouped10 # kinda good too."
      ],
      "metadata": {
        "id": "eTrddwY49meV"
      },
      "execution_count": null,
      "outputs": []
    },
    {
      "cell_type": "code",
      "source": [
        "stress_grouped11 = df.groupby(['unjustified_anxiety_fear',\n",
        "                               'aggressive_behavior', 'suicidal_behavior',\n",
        "                               'difficulty_controlling_emotions',\n",
        "                               'irritable_mood', 'Drug_or_not'])['Weighted_Stress_Index'].mean()\n",
        "stress_grouped11 # kinda good too."
      ],
      "metadata": {
        "id": "T-Xt_Vzk9xxd"
      },
      "execution_count": null,
      "outputs": []
    },
    {
      "cell_type": "code",
      "source": [],
      "metadata": {
        "id": "W0F8v5ZP7g8d"
      },
      "execution_count": null,
      "outputs": []
    }
  ]
}
